{
 "cells": [
  {
   "cell_type": "code",
   "execution_count": 1,
   "metadata": {},
   "outputs": [],
   "source": [
    "import ee\n",
    "import geemap\n",
    "import numpy as np\n",
    "import matplotlib.pyplot as plt\n",
    "import os\n",
    "import pandas as pd\n",
    "import requests\n",
    "from rasterio.warp import transform\n",
    "import xarray as xr\n",
    "import richdem as rd\n",
    "import geopandas as gpd\n",
    "# Initialize the Earth Engine module.\n",
    "ee.Initialize()"
   ]
  },
  {
   "cell_type": "code",
   "execution_count": 2,
   "metadata": {},
   "outputs": [],
   "source": [
    "#########################################################################\n",
    "############################ USER INPUTS ################################\n",
    "#########################################################################\n",
    "# PATHS\n",
    "\n",
    "# DOMAIN\n",
    "# choose the modeling domain\n",
    "domain = 'YUKO'\n",
    "\n",
    "# path to temporary folder to store tif files from gee\n",
    "TIFpath = domain + '_GEE_Downloads/'\n",
    "\n",
    "# path to directory where you want your output .tif and .asc files\n",
    "dataPath = '/nfs/attic/dfh/2020_NPRB/data/SMinputs/'+domain+'/'\n",
    "#########################################################################"
   ]
  },
  {
   "cell_type": "markdown",
   "metadata": {},
   "source": [
    "# Download DEM and LC data from GEE"
   ]
  },
  {
   "cell_type": "code",
   "execution_count": 3,
   "metadata": {},
   "outputs": [],
   "source": [
    "# Download dem and veg data function Copernicus only\n",
    "def get_topoveg(domain, OUTpath):\n",
    "    \n",
    "    #path to CSO domains\n",
    "    domains_resp = requests.get(\"https://raw.githubusercontent.com/NPRB/02_preprocess_python/main/NPRB_domains.json\")\n",
    "    domains = domains_resp.json()\n",
    "\n",
    "    # These are the min and max corners of your domain in Lat, Long\n",
    "    minLat = domains[domain]['Bbox']['latmin']\n",
    "    #// Input the minimum long, lower left corner\n",
    "    minLong = domains[domain]['Bbox']['lonmin']\n",
    "    #// Input the max lat, upper right corner\n",
    "    maxLat = domains[domain]['Bbox']['latmax']\n",
    "    #// Input the max Long, upper right corner\n",
    "    maxLong = domains[domain]['Bbox']['lonmax']\n",
    "\n",
    "    # The resolution for the NLCD and DEM outputs for the SnowModel domain in meters\n",
    "    sm_resolution = int(2500)#int(domains[domain]['cellsize'])\n",
    "\n",
    "    # Define the final output projection using EPSG codes\n",
    "    epsg_code = domains[domain]['mod_proj']\n",
    "\n",
    "    my_domain = ee.Geometry.Rectangle(**{'coords':[minLong,minLat,maxLong,maxLat],'proj': 'EPSG:4326','geodesic':True,});\n",
    "\n",
    "    # Use the GMTED 2010 elevation data for the DEM\n",
    "    GMTED = ee.Image('USGS/GMTED2010').select('be75');\n",
    "    # GMTED = ee.Image('NASA/ASTER_GED/AG100_003');\n",
    "    \n",
    "    filename = os.path.join(OUTpath, domain+'_dem.tif')\n",
    "    geemap.ee_export_image(GMTED, filename=filename, scale=sm_resolution, region=my_domain, crs = epsg_code);\n",
    "\n",
    "    # Use the Copernicus land cover product for the veg type\n",
    "    copernicus = ee.ImageCollection('COPERNICUS/Landcover/100m/Proba-V/Global')\n",
    "    lc = copernicus.select('discrete_classification').toBands()\n",
    "    \n",
    "    sm_class = ee.Image(24) \\\n",
    "        .where(lc.eq(0), 18) \\\n",
    "        .where(lc.eq(20), 6) \\\n",
    "        .where(lc.eq(30), 12) \\\n",
    "        .where(lc.eq(40), 22) \\\n",
    "        .where(lc.eq(50), 21) \\\n",
    "        .where(lc.eq(60), 18) \\\n",
    "        .where(lc.eq(70), 20) \\\n",
    "        .where(lc.eq(80), 19) \\\n",
    "        .where(lc.eq(90), 9) \\\n",
    "        .where(lc.eq(100), 18) \\\n",
    "        .where(lc.eq(111), 1) \\\n",
    "        .where(lc.eq(112), 1) \\\n",
    "        .where(lc.eq(113), 2) \\\n",
    "        .where(lc.eq(114), 2) \\\n",
    "        .where(lc.eq(115), 3) \\\n",
    "        .where(lc.eq(116), 3) \\\n",
    "        .where(lc.eq(121), 4) \\\n",
    "        .where(lc.eq(122), 1) \\\n",
    "        .where(lc.eq(123), 2) \\\n",
    "        .where(lc.eq(124), 2) \\\n",
    "        .where(lc.eq(125), 3) \\\n",
    "        .where(lc.eq(126), 3) \\\n",
    "        .where(lc.eq(200), 24)\n",
    "    \n",
    "    \n",
    "    # export lc image to tif\n",
    "    filename = os.path.join(OUTpath, domain+'_veg.tif');\n",
    "    geemap.ee_export_image(sm_class, filename=filename, scale=sm_resolution, region=my_domain, crs = epsg_code);"
   ]
  },
  {
   "cell_type": "code",
   "execution_count": 4,
   "metadata": {},
   "outputs": [
    {
     "name": "stdout",
     "output_type": "stream",
     "text": [
      "Generating URL ...\n",
      "Downloading data from https://earthengine.googleapis.com/v1alpha/projects/earthengine-legacy/thumbnails/bbd816fd37876aa08eabff220c918e33-40c4e2ff0f8ec01fb184e8725126e1de:getPixels\n",
      "Please wait ...\n",
      "Data downloaded to /nfs/attic/dfh/2020_NPRB/data/SMinputs/YUKO/YUKO_dem.tif\n",
      "Generating URL ...\n",
      "Downloading data from https://earthengine.googleapis.com/v1alpha/projects/earthengine-legacy/thumbnails/dcf0709db915cb5f09a02cbf9d923934-1fe08960db6de05810a741d655716efd:getPixels\n",
      "Please wait ...\n",
      "Data downloaded to /nfs/attic/dfh/2020_NPRB/data/SMinputs/YUKO/YUKO_veg.tif\n"
     ]
    }
   ],
   "source": [
    "# execute GEE function\n",
    "get_topoveg(domain, dataPath)"
   ]
  },
  {
   "cell_type": "code",
   "execution_count": 5,
   "metadata": {
    "tags": []
   },
   "outputs": [
    {
     "name": "stderr",
     "output_type": "stream",
     "text": [
      "/nfs/attic/dfh/miniconda/envs/ee/lib/python3.9/site-packages/pyproj/crs/crs.py:292: FutureWarning: '+init=<authority>:<code>' syntax is deprecated. '<authority>:<code>' is the preferred initialization method. When making the change, be mindful of axis order changes: https://pyproj4.github.io/pyproj/stable/gotchas.html#axis-order-changes-in-proj-6\n",
      "  projstring = _prepare_from_string(projparams)\n"
     ]
    },
    {
     "data": {
      "text/plain": [
       "Text(0.5, 1.0, 'land cover')"
      ]
     },
     "execution_count": 5,
     "metadata": {},
     "output_type": "execute_result"
    },
    {
     "data": {
      "image/png": "[encoded data removed]",
      "text/plain": [
       "<Figure size 864x288 with 4 Axes>"
      ]
     },
     "metadata": {
      "needs_background": "light"
     },
     "output_type": "display_data"
    }
   ],
   "source": [
    "# visualize tif with shapefile\n",
    "# this allows you to ensure that the bounding box covers the full domain\n",
    "DEMfile = dataPath+domain+'_dem.tif'\n",
    "dem = xr.open_rasterio(DEMfile)\n",
    "LCfile = dataPath+domain+'_veg.tif'\n",
    "lc = xr.open_rasterio(LCfile)\n",
    "shp = gpd.read_file('/nfs/attic/dfh/2020_NPRB/data/gis/'+domain+'/yuko_final.shp')\n",
    "shpproj = shp.to_crs(dem.crs)\n",
    "#plot\n",
    "fig,(ax,ax2) = plt.subplots(1,2,figsize=[12,4])\n",
    "#dem.plot(ax=ax)\n",
    "dem.where(dem>0).plot(ax=ax)\n",
    "shpproj.plot(ax=ax,facecolor='None',edgecolor='r')\n",
    "ax.set_title('elevation [m]')\n",
    "lc.plot(ax=ax2)\n",
    "shpproj.plot(ax=ax2,facecolor='None',edgecolor='r')\n",
    "ax2.set_title('land cover')"
   ]
  },
  {
   "cell_type": "code",
   "execution_count": 7,
   "metadata": {
    "tags": []
   },
   "outputs": [
    {
     "data": {
      "text/html": [
       "<div>\n",
       "<style scoped>\n",
       "    .dataframe tbody tr th:only-of-type {\n",
       "        vertical-align: middle;\n",
       "    }\n",
       "\n",
       "    .dataframe tbody tr th {\n",
       "        vertical-align: top;\n",
       "    }\n",
       "\n",
       "    .dataframe thead th {\n",
       "        text-align: right;\n",
       "    }\n",
       "</style>\n",
       "<table border=\"1\" class=\"dataframe\">\n",
       "  <thead>\n",
       "    <tr style=\"text-align: right;\">\n",
       "      <th></th>\n",
       "      <th>code</th>\n",
       "      <th>longitude</th>\n",
       "      <th>latitude</th>\n",
       "      <th>name</th>\n",
       "      <th>elevation_m</th>\n",
       "      <th>easting</th>\n",
       "      <th>northing</th>\n",
       "      <th>geometry</th>\n",
       "    </tr>\n",
       "  </thead>\n",
       "  <tbody>\n",
       "    <tr>\n",
       "      <th>0</th>\n",
       "      <td>1189_AK_SNTL</td>\n",
       "      <td>-141.233765</td>\n",
       "      <td>64.789688</td>\n",
       "      <td>American Creek</td>\n",
       "      <td>320.04000854492188</td>\n",
       "      <td>603032.160975</td>\n",
       "      <td>1.705742e+06</td>\n",
       "      <td>POINT (603032.161 1705742.100)</td>\n",
       "    </tr>\n",
       "    <tr>\n",
       "      <th>1</th>\n",
       "      <td>1182_AK_SNTL</td>\n",
       "      <td>-151.533325</td>\n",
       "      <td>66.916672</td>\n",
       "      <td>Bettles Field</td>\n",
       "      <td>195.07200622558594</td>\n",
       "      <td>108419.819844</td>\n",
       "      <td>1.886353e+06</td>\n",
       "      <td>POINT (108419.820 1886353.197)</td>\n",
       "    </tr>\n",
       "    <tr>\n",
       "      <th>2</th>\n",
       "      <td>1093_AK_SNTL</td>\n",
       "      <td>-142.048996</td>\n",
       "      <td>62.069000</td>\n",
       "      <td>Chisana</td>\n",
       "      <td>1011.9359741210938</td>\n",
       "      <td>619350.435689</td>\n",
       "      <td>1.399568e+06</td>\n",
       "      <td>POINT (619350.436 1399568.147)</td>\n",
       "    </tr>\n",
       "    <tr>\n",
       "      <th>3</th>\n",
       "      <td>958_AK_SNTL</td>\n",
       "      <td>-150.182999</td>\n",
       "      <td>67.253326</td>\n",
       "      <td>Coldfoot</td>\n",
       "      <td>316.99200439453125</td>\n",
       "      <td>165571.970298</td>\n",
       "      <td>1.926459e+06</td>\n",
       "      <td>POINT (165571.970 1926458.724)</td>\n",
       "    </tr>\n",
       "    <tr>\n",
       "      <th>4</th>\n",
       "      <td>1174_AK_SNTL</td>\n",
       "      <td>-147.800003</td>\n",
       "      <td>64.849998</td>\n",
       "      <td>Fairbanks F.O.</td>\n",
       "      <td>137.16000366210938</td>\n",
       "      <td>293622.708406</td>\n",
       "      <td>1.668044e+06</td>\n",
       "      <td>POINT (293622.708 1668044.427)</td>\n",
       "    </tr>\n",
       "    <tr>\n",
       "      <th>5</th>\n",
       "      <td>1268_AK_SNTL</td>\n",
       "      <td>-145.630493</td>\n",
       "      <td>63.202671</td>\n",
       "      <td>Fielding Lake</td>\n",
       "      <td>914.4000244140625</td>\n",
       "      <td>419010.139207</td>\n",
       "      <td>1.496856e+06</td>\n",
       "      <td>POINT (419010.139 1496855.759)</td>\n",
       "    </tr>\n",
       "    <tr>\n",
       "      <th>6</th>\n",
       "      <td>963_AK_SNTL</td>\n",
       "      <td>-145.399933</td>\n",
       "      <td>63.943821</td>\n",
       "      <td>Granite Crk</td>\n",
       "      <td>377.95199584960938</td>\n",
       "      <td>419798.263632</td>\n",
       "      <td>1.580425e+06</td>\n",
       "      <td>POINT (419798.264 1580425.170)</td>\n",
       "    </tr>\n",
       "    <tr>\n",
       "      <th>7</th>\n",
       "      <td>1275_AK_SNTL</td>\n",
       "      <td>-141.326935</td>\n",
       "      <td>64.152901</td>\n",
       "      <td>Jack Wade Jct</td>\n",
       "      <td>1092.7080078125</td>\n",
       "      <td>612161.813633</td>\n",
       "      <td>1.635135e+06</td>\n",
       "      <td>POINT (612161.814 1635134.897)</td>\n",
       "    </tr>\n",
       "    <tr>\n",
       "      <th>8</th>\n",
       "      <td>947_AK_SNTL</td>\n",
       "      <td>-146.733902</td>\n",
       "      <td>65.124222</td>\n",
       "      <td>Little Chena Ridge</td>\n",
       "      <td>609.5999755859375</td>\n",
       "      <td>340586.406552</td>\n",
       "      <td>1.703553e+06</td>\n",
       "      <td>POINT (340586.407 1703553.498)</td>\n",
       "    </tr>\n",
       "    <tr>\n",
       "      <th>9</th>\n",
       "      <td>949_AK_SNTL</td>\n",
       "      <td>-145.870667</td>\n",
       "      <td>65.078331</td>\n",
       "      <td>Monument Creek</td>\n",
       "      <td>563.8800048828125</td>\n",
       "      <td>381482.294650</td>\n",
       "      <td>1.703165e+06</td>\n",
       "      <td>POINT (381482.295 1703165.029)</td>\n",
       "    </tr>\n",
       "    <tr>\n",
       "      <th>10</th>\n",
       "      <td>948_AK_SNTL</td>\n",
       "      <td>-146.151337</td>\n",
       "      <td>65.251129</td>\n",
       "      <td>Mt. Ryan</td>\n",
       "      <td>853.44000244140625</td>\n",
       "      <td>366102.923167</td>\n",
       "      <td>1.720706e+06</td>\n",
       "      <td>POINT (366102.923 1720706.434)</td>\n",
       "    </tr>\n",
       "    <tr>\n",
       "      <th>11</th>\n",
       "      <td>950_AK_SNTL</td>\n",
       "      <td>-146.209457</td>\n",
       "      <td>64.850327</td>\n",
       "      <td>Munson Ridge</td>\n",
       "      <td>944.8800048828125</td>\n",
       "      <td>368633.968051</td>\n",
       "      <td>1.676012e+06</td>\n",
       "      <td>POINT (368633.968 1676011.720)</td>\n",
       "    </tr>\n",
       "    <tr>\n",
       "      <th>12</th>\n",
       "      <td>951_AK_SNTL</td>\n",
       "      <td>-145.516663</td>\n",
       "      <td>64.945831</td>\n",
       "      <td>Teuchet Creek</td>\n",
       "      <td>499.87200927734375</td>\n",
       "      <td>399887.854901</td>\n",
       "      <td>1.690590e+06</td>\n",
       "      <td>POINT (399887.855 1690590.490)</td>\n",
       "    </tr>\n",
       "    <tr>\n",
       "      <th>13</th>\n",
       "      <td>952_AK_SNTL</td>\n",
       "      <td>-144.933167</td>\n",
       "      <td>65.099998</td>\n",
       "      <td>Upper Chena</td>\n",
       "      <td>868.67999267578125</td>\n",
       "      <td>424887.858355</td>\n",
       "      <td>1.711252e+06</td>\n",
       "      <td>POINT (424887.858 1711251.982)</td>\n",
       "    </tr>\n",
       "  </tbody>\n",
       "</table>\n",
       "</div>"
      ],
      "text/plain": [
       "            code   longitude   latitude                name  \\\n",
       "0   1189_AK_SNTL -141.233765  64.789688      American Creek   \n",
       "1   1182_AK_SNTL -151.533325  66.916672       Bettles Field   \n",
       "2   1093_AK_SNTL -142.048996  62.069000             Chisana   \n",
       "3    958_AK_SNTL -150.182999  67.253326            Coldfoot   \n",
       "4   1174_AK_SNTL -147.800003  64.849998      Fairbanks F.O.   \n",
       "5   1268_AK_SNTL -145.630493  63.202671       Fielding Lake   \n",
       "6    963_AK_SNTL -145.399933  63.943821         Granite Crk   \n",
       "7   1275_AK_SNTL -141.326935  64.152901       Jack Wade Jct   \n",
       "8    947_AK_SNTL -146.733902  65.124222  Little Chena Ridge   \n",
       "9    949_AK_SNTL -145.870667  65.078331      Monument Creek   \n",
       "10   948_AK_SNTL -146.151337  65.251129            Mt. Ryan   \n",
       "11   950_AK_SNTL -146.209457  64.850327        Munson Ridge   \n",
       "12   951_AK_SNTL -145.516663  64.945831       Teuchet Creek   \n",
       "13   952_AK_SNTL -144.933167  65.099998         Upper Chena   \n",
       "\n",
       "           elevation_m        easting      northing  \\\n",
       "0   320.04000854492188  603032.160975  1.705742e+06   \n",
       "1   195.07200622558594  108419.819844  1.886353e+06   \n",
       "2   1011.9359741210938  619350.435689  1.399568e+06   \n",
       "3   316.99200439453125  165571.970298  1.926459e+06   \n",
       "4   137.16000366210938  293622.708406  1.668044e+06   \n",
       "5    914.4000244140625  419010.139207  1.496856e+06   \n",
       "6   377.95199584960938  419798.263632  1.580425e+06   \n",
       "7      1092.7080078125  612161.813633  1.635135e+06   \n",
       "8    609.5999755859375  340586.406552  1.703553e+06   \n",
       "9    563.8800048828125  381482.294650  1.703165e+06   \n",
       "10  853.44000244140625  366102.923167  1.720706e+06   \n",
       "11   944.8800048828125  368633.968051  1.676012e+06   \n",
       "12  499.87200927734375  399887.854901  1.690590e+06   \n",
       "13  868.67999267578125  424887.858355  1.711252e+06   \n",
       "\n",
       "                          geometry  \n",
       "0   POINT (603032.161 1705742.100)  \n",
       "1   POINT (108419.820 1886353.197)  \n",
       "2   POINT (619350.436 1399568.147)  \n",
       "3   POINT (165571.970 1926458.724)  \n",
       "4   POINT (293622.708 1668044.427)  \n",
       "5   POINT (419010.139 1496855.759)  \n",
       "6   POINT (419798.264 1580425.170)  \n",
       "7   POINT (612161.814 1635134.897)  \n",
       "8   POINT (340586.407 1703553.498)  \n",
       "9   POINT (381482.295 1703165.029)  \n",
       "10  POINT (366102.923 1720706.434)  \n",
       "11  POINT (368633.968 1676011.720)  \n",
       "12  POINT (399887.855 1690590.490)  \n",
       "13  POINT (424887.858 1711251.982)  "
      ]
     },
     "execution_count": 7,
     "metadata": {},
     "output_type": "execute_result"
    }
   ],
   "source": [
    "#determine landcover type at snotel sites\n",
    "#start calibration date    \n",
    "st_dt = '2011-10-01'\n",
    "#end calibration date\n",
    "ed_dt = '2018-09-30'\n",
    "gdf = gpd.read_file('/nfs/attic/dfh/2020_NPRB/data/snotel/'+domain+'/Station_sites_SWEDmeters_'+domain+'_'+st_dt+'_'+ed_dt+'.geojson')\n",
    "gdf"
   ]
  },
  {
   "cell_type": "code",
   "execution_count": 8,
   "metadata": {
    "tags": []
   },
   "outputs": [
    {
     "name": "stdout",
     "output_type": "stream",
     "text": [
      "[1]\n",
      "[19]\n",
      "[1]\n",
      "[1]\n",
      "[1]\n",
      "[12]\n",
      "[1]\n",
      "[3]\n",
      "[6]\n",
      "[6]\n",
      "[6]\n",
      "[6]\n",
      "[1]\n",
      "[12]\n"
     ]
    }
   ],
   "source": [
    "#2500\n",
    "for i in range(len(gdf)):\n",
    "    print(lc.sel(x=gdf.geometry.x[i],y=gdf.geometry.y[i],method='nearest').values)"
   ]
  },
  {
   "cell_type": "code",
   "execution_count": 12,
   "metadata": {
    "tags": []
   },
   "outputs": [
    {
     "name": "stdout",
     "output_type": "stream",
     "text": [
      "[1]\n",
      "[6]\n",
      "[3]\n",
      "[6]\n",
      "[1]\n",
      "[12]\n",
      "[3]\n",
      "[3]\n",
      "[6]\n",
      "[6]\n",
      "[1]\n",
      "[3]\n",
      "[1]\n",
      "[6]\n"
     ]
    }
   ],
   "source": [
    "#3000m\n",
    "for i in range(len(gdf)):\n",
    "    print(lc.sel(x=gdf.geometry.x[i],y=gdf.geometry.y[i],method='nearest').values)"
   ]
  },
  {
   "cell_type": "code",
   "execution_count": 6,
   "metadata": {
    "tags": []
   },
   "outputs": [
    {
     "name": "stdout",
     "output_type": "stream",
     "text": [
      "[1]\n",
      "[19]\n",
      "[1]\n",
      "[1]\n",
      "[1]\n",
      "[6]\n",
      "[1]\n",
      "[3]\n",
      "[6]\n",
      "[6]\n",
      "[3]\n",
      "[1]\n",
      "[1]\n",
      "[6]\n"
     ]
    }
   ],
   "source": [
    "#1000m\n",
    "for i in range(len(gdf)):\n",
    "    print(lc.sel(x=gdf.geometry.x[i],y=gdf.geometry.y[i],method='nearest').values)"
   ]
  },
  {
   "cell_type": "markdown",
   "metadata": {},
   "source": [
    "## DEM with LC\n",
    "### Edit landcover and dem to prevent negative discharge values\n",
    "\n",
    "1. set the elevation of any dem pixels corresponding to ocean landcover, to 0\n",
    "\n",
    "2. Set and landcover pixels that correspond to zero elevation, to ocean\n",
    "\n",
    "3. fill in any depressions"
   ]
  },
  {
   "cell_type": "code",
   "execution_count": 9,
   "metadata": {
    "tags": []
   },
   "outputs": [],
   "source": [
    "# 2-8-24 add\n",
    "# use this for HF inputs\n",
    "def DEM_LC2SM_fill(DEM_tiffpath,LC_tiffpath,OUTpath,fill=True):\n",
    "    # open dem .tif\n",
    "    dem = xr.open_rasterio(DEM_tiffpath)\n",
    "    # open lc .tif\n",
    "    lc = xr.open_rasterio(LC_tiffpath)\n",
    "    #change all cells in the dem that correspond to the ocean lc type to 0 elevation\n",
    "    dems=dem.where(lc!=24,-9999)\n",
    "    #change all cells in the lc that correspond to 0 elevation, to 24\n",
    "    #lcs=lc.where(dems!=0,24)\n",
    "    #ascii header \n",
    "    head = \"ncols\\t\"+str(dem.shape[2])+\"\\n\" \\\n",
    "        \"nrows\\t\"+str(dem.shape[1])+\"\\n\" \\\n",
    "        \"xllcorner\\t\"+str(int(min(dem.x.values)-dem.res[0]/2))+\"\\n\" \\\n",
    "        \"yllcorner\\t\"+str(int(min(dem.y.values)-dem.res[0]/2))+\"\\n\" \\\n",
    "        \"cellsize\\t\"+str(int(dem.res[0]))+\"\\n\" \\\n",
    "        \"NODATA_value\\t-9999\" \n",
    "\n",
    "    if fill == True:\n",
    "        print('generating filled dem')\n",
    "        #make richdem array\n",
    "        rda = rd.rdarray(np.squeeze(dems.values), no_data=-9999)\n",
    "        #fill depressions in DEM to level of lowest outlet or spill-point\n",
    "        dem_filled = rd.BreachDepressions(rda, in_place=False)\n",
    "        #save filled dem\n",
    "        np.savetxt(OUTpath+domain+'_demHF.asc', dem_filled, fmt='%d', header = head,comments='')\n",
    "    elif fill == False:\n",
    "        print('dem not filled')\n",
    "        #save dem\n",
    "        np.savetxt(OUTpath+domain+'_demHF.asc', np.squeeze(dems.values), fmt='%d', header = head,comments='') \n",
    "\n",
    "    #save lc\n",
    "    np.savetxt(OUTpath+domain+'_vegHF.asc', np.squeeze(lc.values), fmt='%d', header = head,comments='')\n",
    "    "
   ]
  },
  {
   "cell_type": "code",
   "execution_count": 10,
   "metadata": {
    "tags": []
   },
   "outputs": [
    {
     "name": "stdout",
     "output_type": "stream",
     "text": [
      "generating filled dem\n",
      "Warning! No geotransform defined. Choosing a standard one! (Top left cell's top let corner at <0,0>; cells are 1x1.)\n"
     ]
    }
   ],
   "source": [
    "# generate topoveg SM input files\n",
    "DEM_tiffpath = dataPath+domain+'_dem.tif'\n",
    "LC_tiffpath = dataPath+domain+'_veg.tif'\n",
    "DEM_LC2SM_fill(DEM_tiffpath,LC_tiffpath,dataPath)"
   ]
  },
  {
   "cell_type": "code",
   "execution_count": 11,
   "metadata": {
    "tags": []
   },
   "outputs": [],
   "source": [
    "# 2-12-24\n",
    "# use this for SM inputs\n",
    "def DEM_LC2SM_fill(DEM_tiffpath,LC_tiffpath,OUTpath,fill=True):\n",
    "    # open dem .tif\n",
    "    dem = xr.open_rasterio(DEM_tiffpath)\n",
    "    # open lc .tif\n",
    "    lc = xr.open_rasterio(LC_tiffpath)\n",
    "    #change all cells in the dem that correspond to the ocean lc type to 0 elevation\n",
    "    dems=dem.where(lc!=24,0)\n",
    "    # #change all cells in the lc that correspond to 0 elevation, to 24\n",
    "    # lcs=lc.where(dems!=0,24)\n",
    "    #ascii header \n",
    "    head = \"ncols\\t\"+str(dem.shape[2])+\"\\n\" \\\n",
    "        \"nrows\\t\"+str(dem.shape[1])+\"\\n\" \\\n",
    "        \"xllcorner\\t\"+str(int(min(dem.x.values)-dem.res[0]/2))+\"\\n\" \\\n",
    "        \"yllcorner\\t\"+str(int(min(dem.y.values)-dem.res[0]/2))+\"\\n\" \\\n",
    "        \"cellsize\\t\"+str(int(dem.res[0]))+\"\\n\" \\\n",
    "        \"NODATA_value\\t-9999\" \n",
    "\n",
    "    if fill == True:\n",
    "        print('generating filled dem')\n",
    "        #make richdem array\n",
    "        rda = rd.rdarray(np.squeeze(dems.values), no_data=0)\n",
    "        #fill depressions in DEM to level of lowest outlet or spill-point\n",
    "        dem_filled = rd.BreachDepressions(rda, in_place=False)\n",
    "        #save filled dem\n",
    "        np.savetxt(OUTpath+domain+'_dem.asc', dem_filled, fmt='%d', header = head,comments='')\n",
    "    elif fill == False:\n",
    "        print('dem not filled')\n",
    "        #save dem\n",
    "        np.savetxt(OUTpath+domain+'_dem.asc', np.squeeze(dems.values), fmt='%d', header = head,comments='') \n",
    "\n",
    "    #save lc\n",
    "    np.savetxt(OUTpath+domain+'_veg.asc', np.squeeze(lc.values), fmt='%d', header = head,comments='')\n",
    "    "
   ]
  },
  {
   "cell_type": "code",
   "execution_count": 12,
   "metadata": {
    "tags": []
   },
   "outputs": [
    {
     "name": "stdout",
     "output_type": "stream",
     "text": [
      "generating filled dem\n",
      "Warning! No geotransform defined. Choosing a standard one! (Top left cell's top let corner at <0,0>; cells are 1x1.)\n"
     ]
    }
   ],
   "source": [
    "# generate topoveg SM input files\n",
    "DEM_tiffpath = dataPath+domain+'_dem.tif'\n",
    "LC_tiffpath = dataPath+domain+'_veg.tif'\n",
    "DEM_LC2SM_fill(DEM_tiffpath,LC_tiffpath,dataPath)"
   ]
  },
  {
   "cell_type": "code",
   "execution_count": 13,
   "metadata": {},
   "outputs": [],
   "source": [
    "# def DEM_LC2SM_fill(DEM_tiffpath,LC_tiffpath,OUTpath,fill=True):\n",
    "#     # open dem .tif\n",
    "#     dem = xr.open_rasterio(DEM_tiffpath)\n",
    "#     # open lc .tif\n",
    "#     lc = xr.open_rasterio(LC_tiffpath)\n",
    "#     #change all cells in the dem that correspond to the ocean lc type to 0 elevation\n",
    "#     dems=dem.where(lc!=24,0)\n",
    "#     #change all cells in the lc that correspond to 0 elevation, to 24\n",
    "#     lcs=lc.where(dems!=0,24)\n",
    "#     #ascii header \n",
    "#     head = \"ncols\\t\"+str(dem.shape[2])+\"\\n\" \\\n",
    "#         \"nrows\\t\"+str(dem.shape[1])+\"\\n\" \\\n",
    "#         \"xllcorner\\t\"+str(int(min(dem.x.values)-dem.res[0]/2))+\"\\n\" \\\n",
    "#         \"yllcorner\\t\"+str(int(min(dem.y.values)-dem.res[0]/2))+\"\\n\" \\\n",
    "#         \"cellsize\\t\"+str(int(dem.res[0]))+\"\\n\" \\\n",
    "#         \"NODATA_value\\t-9999\" \n",
    "\n",
    "#     if fill == True:\n",
    "#         print('generating filled dem')\n",
    "#         #make richdem array\n",
    "#         rda = rd.rdarray(np.squeeze(dems.values), no_data=0)\n",
    "#         #fill depressions in DEM to level of lowest outlet or spill-point\n",
    "#         dem_filled = rd.BreachDepressions(rda, in_place=False)\n",
    "#         #save filled dem\n",
    "#         np.savetxt(OUTpath+domain+'_dem.asc', dem_filled, fmt='%d', header = head,comments='')\n",
    "#     elif fill == False:\n",
    "#         print('dem not filled')\n",
    "#         #save dem\n",
    "#         np.savetxt(OUTpath+domain+'_dem.asc', np.squeeze(dems.values), fmt='%d', header = head,comments='') \n",
    "\n",
    "#     #save lc\n",
    "#     np.savetxt(OUTpath+domain+'_veg.asc', np.squeeze(lcs.values), fmt='%d', header = head,comments='')\n",
    "    "
   ]
  },
  {
   "cell_type": "markdown",
   "metadata": {},
   "source": [
    "# Lat long grids"
   ]
  },
  {
   "cell_type": "code",
   "execution_count": 14,
   "metadata": {},
   "outputs": [],
   "source": [
    "def LTLN2SM(INfile,OUTpath):\n",
    "    da = xr.open_rasterio(INfile)\n",
    "\n",
    "    # Compute the lon/lat coordinates with rasterio.warp.transform\n",
    "    ny, nx = len(da.y), len(da.x)\n",
    "    x, y = np.meshgrid(da.x, da.y)\n",
    "\n",
    "    # Rasterio works with 1D arrays\n",
    "    lon, lat = transform(da.crs, {'init': 'EPSG:4326'},\n",
    "                         x.flatten(), y.flatten())\n",
    "    lon = np.asarray(lon).reshape((ny, nx))\n",
    "    lat = np.asarray(lat).reshape((ny, nx))\n",
    "\n",
    "    #ascii header \n",
    "    head = \"ncols\\t\"+str(da.shape[2])+\"\\n\" \\\n",
    "    \"nrows\\t\"+str(da.shape[1])+\"\\n\" \\\n",
    "    \"xllcorner\\t\"+str(int(min(da.x.values)-da.res[0]/2))+\"\\n\" \\\n",
    "    \"yllcorner\\t\"+str(int(min(da.y.values)-da.res[0]/2))+\"\\n\" \\\n",
    "    \"cellsize\\t\"+str(int(da.res[0]))+\"\\n\" \\\n",
    "    \"NODATA_value\\t-9999\"\n",
    "    np.savetxt(OUTpath+domain+'_grid_lat.asc', lat, fmt='%2.5f', header = head,comments='')\n",
    "    np.savetxt(OUTpath+domain+'_grid_lon.asc', lon, fmt='%4.5f', header = head,comments='')\n",
    "    \n",
    "    inF = OUTpath+domain+'_grid_lat.asc'\n",
    "    outF = OUTpath+domain+'_grid_lat.tif'\n",
    "    !gdal_translate -of \"GTiff\" $inF $outF\n",
    "\n",
    "    inF = OUTpath+domain+'_grid_lon.asc'\n",
    "    outF = OUTpath+domain+'_grid_lon.tif'\n",
    "    !gdal_translate -of \"GTiff\" $inF $outF"
   ]
  },
  {
   "cell_type": "code",
   "execution_count": 15,
   "metadata": {
    "tags": []
   },
   "outputs": [
    {
     "name": "stdout",
     "output_type": "stream",
     "text": [
      "Input file size is 863, 527\n",
      "0...10...20...30...40...50...60...70...80...90...100 - done.\n",
      "Input file size is 863, 527\n",
      "0...10...20...30...40...50...60...70...80...90...100 - done.\n"
     ]
    }
   ],
   "source": [
    "#generate lat lon grids\n",
    "LTLN2SM(DEM_tiffpath,dataPath)\n"
   ]
  },
  {
   "cell_type": "markdown",
   "metadata": {},
   "source": [
    "# Execute functions - 1 domain"
   ]
  },
  {
   "cell_type": "code",
   "execution_count": 10,
   "metadata": {},
   "outputs": [
    {
     "name": "stdout",
     "output_type": "stream",
     "text": [
      "generating filled dem\n",
      "Warning! No geotransform defined. Choosing a standard one! (Top left cell's top let corner at <0,0>; cells are 1x1.)\n",
      "Input file size is 2157, 1317\n",
      "0...10...20...30...40...50...60...70...80...90...100 - done.\n",
      "Input file size is 2157, 1317\n",
      "0...10...20...30...40...50...60...70...80...90...100 - done.\n"
     ]
    }
   ],
   "source": [
    "# # execute GEE function\n",
    "# get_topoveg(domain, dataPath)\n",
    "\n",
    "# generate topoveg SM input files\n",
    "DEM_tiffpath = dataPath+domain+'_dem.tif'\n",
    "LC_tiffpath = dataPath+domain+'_veg.tif'\n",
    "DEM_LC2SM_fill(DEM_tiffpath,LC_tiffpath,dataPath)\n",
    "\n",
    "#generate lat lon grids\n",
    "LTLN2SM(DEM_tiffpath,dataPath)"
   ]
  },
  {
   "cell_type": "code",
   "execution_count": 9,
   "metadata": {},
   "outputs": [],
   "source": [
    "# # AK domains\n",
    "# domain_list = ['JUNE','KLAW','SITK','TAKU']\n",
    "# # domain_list = ['BEAU','BRIS','CHUK','JUNE','KLAW','SITK','TAKU','YUKO']\n",
    "\n",
    "# for domain in domain_list:\n",
    "#     print(domain)\n",
    "#     # path to directory where you want your output .tif and .asc files\n",
    "#     dataPath = '/nfs/attic/dfh/2020_NPRB/data/SMinputs/'+domain+'/'\n",
    "\n",
    "#     # execute GEE function\n",
    "#     get_topoveg(domain, dataPath)\n",
    "    \n",
    "#     # generate topoveg SM input files\n",
    "#     DEM_tiffpath = dataPath+domain+'_dem.tif'\n",
    "#     LC_tiffpath = dataPath+domain+'_veg.tif'\n",
    "#     DEM_LC2SM_fill(DEM_tiffpath,LC_tiffpath,dataPath)\n",
    "    \n",
    "#     #generate lat lon grids\n",
    "#     LTLN2SM(DEM_tiffpath,dataPath)"
   ]
  },
  {
   "cell_type": "code",
   "execution_count": 5,
   "metadata": {
    "jupyter": {
     "source_hidden": true
    }
   },
   "outputs": [],
   "source": [
    "# # landcover data \n",
    "# def LC2SM(INfile,OUTpath):\n",
    "#     da = xr.open_rasterio(INfile)\n",
    "#     data = np.squeeze(da.values)\n",
    "\n",
    "#     #ascii header \n",
    "#     head = \"ncols\\t\"+str(da.shape[2])+\"\\n\" \\\n",
    "#     \"nrows\\t\"+str(da.shape[1])+\"\\n\" \\\n",
    "#     \"xllcorner\\t\"+str(int(min(da.x.values)-da.res[0]/2))+\"\\n\" \\\n",
    "#     \"yllcorner\\t\"+str(int(min(da.y.values)-da.res[0]/2))+\"\\n\" \\\n",
    "#     \"cellsize\\t\"+str(int(da.res[0]))+\"\\n\" \\\n",
    "#     \"NODATA_value\\t-9999\"\n",
    "    \n",
    "#     #reassign lc from NLCD to SM classes\n",
    "#     DIR=np.empty([da.shape[1],da.shape[2]])\n",
    "#     DIR[data == 11 ]=19\n",
    "#     DIR[data == 12 ]=20\n",
    "#     DIR[data == 21 ]=21\n",
    "#     DIR[data == 22 ]=21\n",
    "#     DIR[data == 23 ]=21\n",
    "#     DIR[data == 24 ]=21\n",
    "#     DIR[data == 31 ]=18\n",
    "#     DIR[data == 41 ]=2\n",
    "#     DIR[data == 42 ]=1\n",
    "#     DIR[data == 43 ]=6\n",
    "#     DIR[data == 51 ]=6\n",
    "#     DIR[data == 52 ]=6\n",
    "#     DIR[data == 71 ]=12\n",
    "#     DIR[data == 72 ]=12\n",
    "#     DIR[data == 73 ]=12\n",
    "#     DIR[data == 74 ]=12\n",
    "#     DIR[data == 81 ]=23\n",
    "#     DIR[data == 82 ]=22\n",
    "#     DIR[data == 90 ]=9\n",
    "#     DIR[data == 95 ]=9\n",
    "#     DIR.astype(int)\n",
    "#     np.savetxt(OUTpath+domain+'_veg.asc', DIR, fmt='%d', header = head,comments='')"
   ]
  }
 ],
 "metadata": {
  "kernelspec": {
   "display_name": "Python [conda env:ee]",
   "language": "python",
   "name": "conda-env-ee-py"
  },
  "language_info": {
   "codemirror_mode": {
    "name": "ipython",
    "version": 3
   },
   "file_extension": ".py",
   "mimetype": "text/x-python",
   "name": "python",
   "nbconvert_exporter": "python",
   "pygments_lexer": "ipython3",
   "version": "3.9.2"
  }
 },
 "nbformat": 4,
 "nbformat_minor": 4
}
