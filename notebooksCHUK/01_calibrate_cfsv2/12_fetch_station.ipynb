{
 "cells": [
  {
   "cell_type": "markdown",
   "metadata": {},
   "source": [
    "# Fetch and export SNOTEL sites and daily time series data"
   ]
  },
  {
   "cell_type": "code",
   "execution_count": 1,
   "metadata": {},
   "outputs": [],
   "source": [
    "from collections import OrderedDict\n",
    "import numpy as np\n",
    "import pandas as pd\n",
    "import geopandas as gpd\n",
    "from shapely import geometry as sgeom\n",
    "import ulmo\n",
    "import json\n",
    "import requests\n",
    "import rioxarray as rxr"
   ]
  },
  {
   "cell_type": "code",
   "execution_count": 2,
   "metadata": {},
   "outputs": [],
   "source": [
    "#########################################################################\n",
    "############################ USER INPUTS ################################\n",
    "#########################################################################\n",
    "\n",
    "# DOMAIN\n",
    "# choose the modeling domain\n",
    "domain = 'CHUK'\n",
    "\n",
    "# PATHS\n",
    "dataPath = '/nfs/attic/dfh/2020_NPRB/data/snotel/'+domain+'/'\n",
    "\n",
    "# DATES\n",
    "#start calibration date    \n",
    "st_dt = '2011-10-01'\n",
    "#end calibration date\n",
    "ed_dt = '2018-09-30'\n",
    "\n",
    "#########################################################################"
   ]
  },
  {
   "cell_type": "code",
   "execution_count": 3,
   "metadata": {},
   "outputs": [],
   "source": [
    "# functions to get stations as geodataframe\n",
    "def sites_asgdf(ulmo_getsites, stn_proj):\n",
    "    \"\"\" Convert ulmo.cuahsi.wof.get_sites response into a point GeoDataframe\n",
    "    \"\"\"\n",
    "    \n",
    "    # Note: Found one SNOTEL site that was missing the location key\n",
    "    sites_df = pd.DataFrame.from_records([\n",
    "        OrderedDict(code=s['code'], \n",
    "        longitude=float(s['location']['longitude']), \n",
    "        latitude=float(s['location']['latitude']), \n",
    "        name=s['name'], \n",
    "        elevation_m=s['elevation_m'])\n",
    "        for _,s in ulmo_getsites.items()\n",
    "        if 'location' in s\n",
    "    ])\n",
    "\n",
    "    sites_gdf = gpd.GeoDataFrame(\n",
    "        sites_df, \n",
    "        geometry=gpd.points_from_xy(sites_df['longitude'], sites_df['latitude']),\n",
    "        crs=stn_proj\n",
    "    )\n",
    "    return sites_gdf\n",
    "\n",
    "def get_stns(domain):\n",
    "    \n",
    "    #path to domains\n",
    "    domains_resp = requests.get(\"https://raw.githubusercontent.com/NPRB/02_preprocess_python/main/NPRB_domains.json\")\n",
    "    domains = domains_resp.json()\n",
    "\n",
    "    #Snotel bounding box\n",
    "    Bbox = domains[domain]['Bbox']\n",
    "\n",
    "    # Snotel projection\n",
    "    stn_proj = domains[domain]['stn_proj']\n",
    "    # model projection\n",
    "    mod_proj = domains[domain]['mod_proj']\n",
    "\n",
    "    # Convert the bounding box dictionary to a shapely Polygon geometry using sgeom.box\n",
    "    box_sgeom = sgeom.box(Bbox['lonmin'], Bbox['latmin'], Bbox['lonmax'], Bbox['latmax'])\n",
    "    box_gdf = gpd.GeoDataFrame(geometry=[box_sgeom], crs=stn_proj)\n",
    "    \n",
    "    # WaterML/WOF WSDL endpoint url \n",
    "    #snotel \n",
    "    wsdlurl = \"https://hydroportal.cuahsi.org/Snotel/cuahsi_1_1.asmx?WSDL\"\n",
    "\n",
    "    # get dictionary of snotel sites \n",
    "    sites = ulmo.cuahsi.wof.get_sites(wsdlurl,user_cache=True)\n",
    "\n",
    "    #turn sites to geodataframe \n",
    "    snotel_gdf = sites_asgdf(sites,stn_proj)\n",
    "    \n",
    "    #clip snotel sites to domain bounding box\n",
    "    gdf1 = gpd.sjoin(snotel_gdf, box_gdf, how=\"inner\")\n",
    "    gdf1.drop(columns='index_right', inplace=True)\n",
    "    gdf1.reset_index(drop=True, inplace=True)\n",
    "    \n",
    "    #scan (east coast & AK)\n",
    "    wsdlurl_scan = \"https://hydroportal.cuahsi.org/Scan/cuahsi_1_1.asmx?WSDL\"\n",
    "    \n",
    "    # get dictionary of scan sites \n",
    "    scan_sites = ulmo.cuahsi.wof.get_sites(wsdlurl_scan,user_cache=True)\n",
    "    \n",
    "    #turn sites to geodataframe \n",
    "    scan_gdf = sites_asgdf(scan_sites,stn_proj)\n",
    "    \n",
    "    #clip scan sites to domain bounding box\n",
    "    gdf2 = gpd.sjoin(scan_gdf, box_gdf, how=\"inner\")\n",
    "    gdf2.drop(columns='index_right', inplace=True)\n",
    "    gdf2.reset_index(drop=True, inplace=True)\n",
    "    \n",
    "    # concatenate snotel and scan\n",
    "    frames = [gdf1, gdf2]\n",
    "    gdfs = pd.concat(frames)\n",
    "\n",
    "    #add columns with projected coordinates \n",
    "    CSO_proj = gdfs.to_crs(mod_proj)\n",
    "    gdfs['easting'] = CSO_proj.geometry.x\n",
    "    gdfs['northing'] = CSO_proj.geometry.y\n",
    "    gdfs.reset_index(drop=True, inplace=True)\n",
    "    \n",
    "    return gdfs"
   ]
  },
  {
   "cell_type": "code",
   "execution_count": 4,
   "metadata": {},
   "outputs": [],
   "source": [
    "def fetch(sitecode, variablecode, start_date, end_date):\n",
    "    print(sitecode, variablecode, start_date, end_date)\n",
    "    values_df = None\n",
    "    #snotel \n",
    "    wsdlurl = \"https://hydroportal.cuahsi.org/Snotel/cuahsi_1_1.asmx?WSDL\"\n",
    "    try:\n",
    "        #Request data from the server\n",
    "        site_values = ulmo.cuahsi.wof.get_values(\n",
    "            wsdlurl, 'SNOTEL:'+sitecode, variablecode, start=start_date, end=end_date\n",
    "        )\n",
    "        #Convert to a Pandas DataFrame   \n",
    "        values_df = pd.DataFrame.from_dict(site_values['values'])\n",
    "        #Parse the datetime values to Pandas Timestamp objects\n",
    "        values_df['datetime'] = pd.to_datetime(values_df['datetime'])\n",
    "        #Set the DataFrame index to the Timestamps\n",
    "        values_df.set_index('datetime', inplace=True)\n",
    "        #Convert values to float and replace -9999 nodata values with NaN\n",
    "        values_df['value'] = pd.to_numeric(values_df['value']).replace(-9999, np.nan)\n",
    "        #Remove any records flagged with lower quality\n",
    "        values_df = values_df[values_df['quality_control_level_code'] == '1']\n",
    "    except:\n",
    "        print(\"Unable to fetch %s\" % variablecode)\n",
    "    \n",
    "    return values_df"
   ]
  },
  {
   "cell_type": "code",
   "execution_count": 5,
   "metadata": {},
   "outputs": [],
   "source": [
    "def fetch_scan(sitecode, variablecode, start_date, end_date):\n",
    "    print(sitecode, variablecode, start_date, end_date)\n",
    "    values_df = None\n",
    "    #scan\n",
    "    wsdlurl = \"https://hydroportal.cuahsi.org/Scan/cuahsi_1_1.asmx?WSDL\"\n",
    "    try:\n",
    "        #Request data from the server\n",
    "        site_values = ulmo.cuahsi.wof.get_values(\n",
    "            wsdlurl, 'SCAN:'+sitecode, variablecode, start=start_date, end=end_date\n",
    "        )\n",
    "        #Convert to a Pandas DataFrame   \n",
    "        values_df = pd.DataFrame.from_dict(site_values['values'])\n",
    "        #Parse the datetime values to Pandas Timestamp objects\n",
    "        values_df['datetime'] = pd.to_datetime(values_df['datetime'])\n",
    "        #Set the DataFrame index to the Timestamps\n",
    "        values_df.set_index('datetime', inplace=True)\n",
    "        #Convert values to float and replace -9999 nodata values with NaN\n",
    "        values_df['value'] = pd.to_numeric(values_df['value']).replace(-9999, np.nan)\n",
    "        #Remove any records flagged with lower quality\n",
    "        values_df = values_df[values_df['quality_control_level_code'] == '1']\n",
    "    except:\n",
    "        print(\"Unable to fetch %s\" % variablecode)\n",
    "    \n",
    "    return values_df"
   ]
  },
  {
   "cell_type": "code",
   "execution_count": 6,
   "metadata": {},
   "outputs": [],
   "source": [
    "# returns daily timeseries\n",
    "# https://www.wcc.nrcs.usda.gov/web_service/AWDB_Web_Service_Reference.htm#commonlyUsedElementCodes\n",
    "# 'WTEQ': swe [in]\n",
    "# 'SNWD': snow depth [in]\n",
    "# 'PRCP': precipitation increment [in]\n",
    "# 'PREC': precipitation accumulation [in]\n",
    "# 'TAVG': average air temp [F]\n",
    "# 'TMIN': minimum air temp [F]\n",
    "# 'TMAX': maximum air temp [F]\n",
    "# 'TOBS': observered air temp [F]\n",
    "def get_stn_data(gdf,sd_dt, ed_dt,var,units='metric'):\n",
    "    '''\n",
    "    gdf - pandas geodataframe of SNOTEL sites\n",
    "    st_dt - start date string 'yyyy-mm-dd'\n",
    "    ed_dt - end date string 'yyyy-mm-dd'\n",
    "    var - snotel variable of interest \n",
    "    units - 'metric' (default) or 'imperial'\n",
    "    '''\n",
    "    #empty dataframe for station data\n",
    "    stn_data = pd.DataFrame(index=pd.date_range(start=st_dt, end=ed_dt))\n",
    "\n",
    "    for sitecode in gdf.code:\n",
    "        # get snotel daily data\n",
    "        if sitecode[-4:] == 'SNTL':\n",
    "            try:\n",
    "                data = fetch(sitecode,'SNOTEL:'+var+'_D', start_date=st_dt, end_date=ed_dt)\n",
    "                stn_data[sitecode] = data.value\n",
    "            except:\n",
    "                print('droping '+sitecode)\n",
    "        # get scan daily data\n",
    "        if sitecode[-4:] == 'SCAN':\n",
    "            try:\n",
    "                data = fetch_scan(sitecode,'SCAN:'+var+'_D', start_date=st_dt, end_date=ed_dt)\n",
    "                stn_data[sitecode] = data.value\n",
    "            except:\n",
    "                print('dropping '+sitecode)\n",
    "    # grop stations with no data from gdf\n",
    "    gdffinal = gdf[gdf.code.isin(stn_data.columns)]\n",
    "    gdffinal.reset_index(drop=True, inplace=True)\n",
    "    # convert units\n",
    "    if units == 'metric':\n",
    "        if (var == 'WTEQ') |(var == 'SNWD') |(var == 'PRCP') |(var == 'PREC'):\n",
    "            #convert depth units [in] to [m]\n",
    "            for sitecode in gdffinal.code:\n",
    "                stn_data[sitecode] = 0.0254 * stn_data[sitecode]\n",
    "        elif (var == 'TAVG') |(var == 'TMIN') |(var == 'TMAX') |(var == 'TOBS'):\n",
    "            #convert temp units [F] to [C]\n",
    "            for sitecode in gdffinal.code:\n",
    "                stn_data[sitecode] = (stn_data[sitecode] - 32) * 5/9\n",
    "            # remove missing data\n",
    "            stn_data[stn_data<-99]=np.nan\n",
    "    elif units == 'imperial':\n",
    "        stn_data = stn_data\n",
    "    return gdffinal, stn_data"
   ]
  },
  {
   "cell_type": "code",
   "execution_count": 7,
   "metadata": {},
   "outputs": [],
   "source": [
    "def check_stn_bounds(domain,instnGDF):\n",
    "    #open .tif\n",
    "    DA = rxr.open_rasterio('/nfs/attic/dfh/2020_NPRB/data/SMinputs/'+domain+'/'+domain+'_dem.tif')\n",
    "    #get bounds\n",
    "    bnds = DA.rio.bounds()\n",
    "    #build bounding box\n",
    "    box_sgeom = sgeom.box(bnds[0], bnds[1], bnds[2], bnds[3])\n",
    "    #path to domains\n",
    "    domains_resp = requests.get(\"https://raw.githubusercontent.com/NPRB/02_preprocess_python/main/NPRB_domains.json\")\n",
    "    domains = domains_resp.json()\n",
    "    # domain projection\n",
    "    mod_proj = domains[domain]['mod_proj']\n",
    "    box_gdf = gpd.GeoDataFrame(geometry=[box_sgeom], crs=mod_proj)\n",
    "    #get geodataframe of all SNOTEL sites in the domain\n",
    "    stnGDFproj = instnGDF.to_crs(mod_proj)\n",
    "    #clip snotel sites to domain bounding box\n",
    "    gdf1 = gpd.sjoin(stnGDFproj, box_gdf, how=\"inner\")\n",
    "    gdf1.drop(columns='index_right', inplace=True)\n",
    "    gdf1.reset_index(drop=True, inplace=True)\n",
    "    return gdf1"
   ]
  },
  {
   "cell_type": "code",
   "execution_count": 8,
   "metadata": {},
   "outputs": [
    {
     "name": "stdout",
     "output_type": "stream",
     "text": [
      "BEAU\n",
      "6\n",
      "0     957_AK_SNTL\n",
      "1     958_AK_SNTL\n",
      "2     968_AK_SNTL\n",
      "3    1175_AK_SNTL\n",
      "4    1177_AK_SNTL\n",
      "5    1183_AK_SNTL\n",
      "Name: code, dtype: object\n"
     ]
    },
    {
     "data": {
      "image/png": "[encoded data removed]",
      "text/plain": [
       "<Figure size 432x288 with 1 Axes>"
      ]
     },
     "metadata": {
      "needs_background": "light"
     },
     "output_type": "display_data"
    }
   ],
   "source": [
    "import matplotlib.pyplot as plt\n",
    "# run all AK domains\n",
    "domain_list = [domain]\n",
    "\n",
    "for domain in domain_list:\n",
    "    print(domain)\n",
    "    #get geodataframe of all SNOTEL and SCAN sites in the domain\n",
    "    snotel_gdf = get_stns(domain)\n",
    "    print(len(snotel_gdf))\n",
    "    print(snotel_gdf.code)\n",
    "    if len(snotel_gdf)>0:\n",
    "        fig, ax = plt.subplots()\n",
    "        snotel_gdf.plot(ax=ax)"
   ]
  },
  {
   "cell_type": "markdown",
   "metadata": {},
   "source": [
    "# Execute Functions"
   ]
  },
  {
   "cell_type": "code",
   "execution_count": 9,
   "metadata": {},
   "outputs": [
    {
     "name": "stdout",
     "output_type": "stream",
     "text": [
      "957_AK_SNTL SNOTEL:TOBS_D 2011-10-01 2018-09-30\n",
      "968_AK_SNTL SNOTEL:TOBS_D 2011-10-01 2018-09-30\n",
      "1175_AK_SNTL SNOTEL:TOBS_D 2011-10-01 2018-09-30\n",
      "1177_AK_SNTL SNOTEL:TOBS_D 2011-10-01 2018-09-30\n",
      "1183_AK_SNTL SNOTEL:TOBS_D 2011-10-01 2018-09-30\n"
     ]
    },
    {
     "name": "stderr",
     "output_type": "stream",
     "text": [
      "/nfs/attic/dfh/2020_NPRB/data/snotel/BEAU/Station_sites_TOBScelcius_BEAU_2011-10-01_2018-09-30.geojson: No such file or directory\n",
      "driver GeoJSON does not support creation option ENCODING\n"
     ]
    },
    {
     "name": "stdout",
     "output_type": "stream",
     "text": [
      "957_AK_SNTL SNOTEL:PRCP_D 2011-10-01 2018-09-30\n",
      "968_AK_SNTL SNOTEL:PRCP_D 2011-10-01 2018-09-30\n",
      "1175_AK_SNTL SNOTEL:PRCP_D 2011-10-01 2018-09-30\n",
      "1177_AK_SNTL SNOTEL:PRCP_D 2011-10-01 2018-09-30\n",
      "1183_AK_SNTL SNOTEL:PRCP_D 2011-10-01 2018-09-30\n"
     ]
    },
    {
     "name": "stderr",
     "output_type": "stream",
     "text": [
      "/nfs/attic/dfh/2020_NPRB/data/snotel/BEAU/Station_sites_PRmeters_BEAU_2011-10-01_2018-09-30.geojson: No such file or directory\n",
      "driver GeoJSON does not support creation option ENCODING\n"
     ]
    },
    {
     "name": "stdout",
     "output_type": "stream",
     "text": [
      "957_AK_SNTL SNOTEL:WTEQ_D 2011-10-01 2018-09-30\n"
     ]
    },
    {
     "name": "stderr",
     "output_type": "stream",
     "text": [
      "<suds.sax.document.Document object at 0x7f3e619b42b0>\n"
     ]
    },
    {
     "name": "stdout",
     "output_type": "stream",
     "text": [
      "Unable to fetch SNOTEL:WTEQ_D\n",
      "droping 957_AK_SNTL\n",
      "968_AK_SNTL SNOTEL:WTEQ_D 2011-10-01 2018-09-30\n"
     ]
    },
    {
     "name": "stderr",
     "output_type": "stream",
     "text": [
      "<suds.sax.document.Document object at 0x7f3e48e18d68>\n"
     ]
    },
    {
     "name": "stdout",
     "output_type": "stream",
     "text": [
      "Unable to fetch SNOTEL:WTEQ_D\n",
      "droping 968_AK_SNTL\n",
      "1175_AK_SNTL SNOTEL:WTEQ_D 2011-10-01 2018-09-30\n",
      "1177_AK_SNTL SNOTEL:WTEQ_D 2011-10-01 2018-09-30\n"
     ]
    },
    {
     "name": "stderr",
     "output_type": "stream",
     "text": [
      "<suds.sax.document.Document object at 0x7f3e619b6780>\n"
     ]
    },
    {
     "name": "stdout",
     "output_type": "stream",
     "text": [
      "Unable to fetch SNOTEL:WTEQ_D\n",
      "droping 1177_AK_SNTL\n",
      "1183_AK_SNTL SNOTEL:WTEQ_D 2011-10-01 2018-09-30\n"
     ]
    },
    {
     "name": "stderr",
     "output_type": "stream",
     "text": [
      "<suds.sax.document.Document object at 0x7f3e48e01048>\n",
      "/nfs/attic/dfh/2020_NPRB/data/snotel/BEAU/Station_sites_SWEDmeters_BEAU_2011-10-01_2018-09-30.geojson: No such file or directory\n",
      "driver GeoJSON does not support creation option ENCODING\n"
     ]
    },
    {
     "name": "stdout",
     "output_type": "stream",
     "text": [
      "Unable to fetch SNOTEL:WTEQ_D\n",
      "droping 1183_AK_SNTL\n"
     ]
    }
   ],
   "source": [
    "#get geodataframe of all SNOTEL and SCAN sites in the domain\n",
    "stnGDF = get_stns(domain)\n",
    "#ensure all sites are within domain bounds\n",
    "stnGDF = check_stn_bounds(domain,stnGDF)\n",
    "\n",
    "#get observed temp timeseries \n",
    "domain_gdfT, tob = get_stn_data(stnGDF,st_dt, ed_dt,'TOBS')\n",
    "\n",
    "# save geojson\n",
    "out = dataPath + 'Station_sites_TOBScelcius_'+domain+'_'+st_dt+'_'+ed_dt+'.geojson'\n",
    "domain_gdfT.to_file(out, driver='GeoJSON')\n",
    "\n",
    "#save tobs\n",
    "out = dataPath + 'Station_data_TOBScelsius_'+st_dt+'_'+ed_dt+'.csv'\n",
    "tob.to_csv(out)\n",
    "\n",
    "#get precipitation timeseries \n",
    "domain_gdfP, pr = get_stn_data(stnGDF,st_dt,ed_dt,'PRCP')\n",
    "\n",
    "# save geojson\n",
    "out = dataPath + 'Station_sites_PRmeters_'+domain+'_'+st_dt+'_'+ed_dt+'.geojson'\n",
    "domain_gdfP.to_file(out, driver='GeoJSON')\n",
    "\n",
    "#save pr\n",
    "out = dataPath + 'Station_data_PRmeters_'+st_dt+'_'+ed_dt+'.csv'\n",
    "pr.to_csv(out)\n",
    "\n",
    "#get swe timeseries \n",
    "domain_gdfSWE, swe = get_stn_data(stnGDF,st_dt,ed_dt,'WTEQ')\n",
    "\n",
    "# save geojson\n",
    "out = dataPath + 'Station_sites_SWEDmeters_'+domain+'_'+st_dt+'_'+ed_dt+'.geojson'\n",
    "domain_gdfSWE.to_file(out, driver='GeoJSON')\n",
    "\n",
    "#save swe\n",
    "out = dataPath + 'Station_data_SWEDmeters_'+st_dt+'_'+ed_dt+'.csv'\n",
    "swe.to_csv(out)"
   ]
  },
  {
   "cell_type": "markdown",
   "metadata": {},
   "source": [
    "# clean data\n",
    "\n",
    "Each station should be checked to remove bad data."
   ]
  },
  {
   "cell_type": "markdown",
   "metadata": {},
   "source": [
    "## BEAU\n"
   ]
  },
  {
   "cell_type": "code",
   "execution_count": 10,
   "metadata": {},
   "outputs": [
    {
     "data": {
      "text/html": [
       "<div>\n",
       "<style scoped>\n",
       "    .dataframe tbody tr th:only-of-type {\n",
       "        vertical-align: middle;\n",
       "    }\n",
       "\n",
       "    .dataframe tbody tr th {\n",
       "        vertical-align: top;\n",
       "    }\n",
       "\n",
       "    .dataframe thead th {\n",
       "        text-align: right;\n",
       "    }\n",
       "</style>\n",
       "<table border=\"1\" class=\"dataframe\">\n",
       "  <thead>\n",
       "    <tr style=\"text-align: right;\">\n",
       "      <th></th>\n",
       "      <th>957_AK_SNTL</th>\n",
       "      <th>968_AK_SNTL</th>\n",
       "      <th>1175_AK_SNTL</th>\n",
       "      <th>1177_AK_SNTL</th>\n",
       "      <th>1183_AK_SNTL</th>\n",
       "    </tr>\n",
       "  </thead>\n",
       "  <tbody>\n",
       "    <tr>\n",
       "      <th>2011-10-01</th>\n",
       "      <td>-9.9</td>\n",
       "      <td>-7.3</td>\n",
       "      <td>-5.5</td>\n",
       "      <td>-3.6</td>\n",
       "      <td>-3.6</td>\n",
       "    </tr>\n",
       "    <tr>\n",
       "      <th>2011-10-02</th>\n",
       "      <td>-10.6</td>\n",
       "      <td>-7.6</td>\n",
       "      <td>-3.3</td>\n",
       "      <td>-4.4</td>\n",
       "      <td>-5.8</td>\n",
       "    </tr>\n",
       "    <tr>\n",
       "      <th>2011-10-03</th>\n",
       "      <td>-6.8</td>\n",
       "      <td>1.6</td>\n",
       "      <td>-5.2</td>\n",
       "      <td>-0.1</td>\n",
       "      <td>-5.3</td>\n",
       "    </tr>\n",
       "    <tr>\n",
       "      <th>2011-10-04</th>\n",
       "      <td>-4.3</td>\n",
       "      <td>-2.6</td>\n",
       "      <td>-6.7</td>\n",
       "      <td>-1.4</td>\n",
       "      <td>-3.0</td>\n",
       "    </tr>\n",
       "    <tr>\n",
       "      <th>2011-10-05</th>\n",
       "      <td>-5.2</td>\n",
       "      <td>-4.6</td>\n",
       "      <td>-6.9</td>\n",
       "      <td>-3.4</td>\n",
       "      <td>-2.2</td>\n",
       "    </tr>\n",
       "    <tr>\n",
       "      <th>...</th>\n",
       "      <td>...</td>\n",
       "      <td>...</td>\n",
       "      <td>...</td>\n",
       "      <td>...</td>\n",
       "      <td>...</td>\n",
       "    </tr>\n",
       "    <tr>\n",
       "      <th>2018-09-26</th>\n",
       "      <td>-4.7</td>\n",
       "      <td>-2.8</td>\n",
       "      <td>3.9</td>\n",
       "      <td>-2.1</td>\n",
       "      <td>-7.7</td>\n",
       "    </tr>\n",
       "    <tr>\n",
       "      <th>2018-09-27</th>\n",
       "      <td>-2.3</td>\n",
       "      <td>0.3</td>\n",
       "      <td>-0.2</td>\n",
       "      <td>-3.7</td>\n",
       "      <td>0.9</td>\n",
       "    </tr>\n",
       "    <tr>\n",
       "      <th>2018-09-28</th>\n",
       "      <td>-4.7</td>\n",
       "      <td>-1.9</td>\n",
       "      <td>2.4</td>\n",
       "      <td>1.3</td>\n",
       "      <td>0.7</td>\n",
       "    </tr>\n",
       "    <tr>\n",
       "      <th>2018-09-29</th>\n",
       "      <td>-3.1</td>\n",
       "      <td>4.4</td>\n",
       "      <td>6.3</td>\n",
       "      <td>-2.2</td>\n",
       "      <td>-4.9</td>\n",
       "    </tr>\n",
       "    <tr>\n",
       "      <th>2018-09-30</th>\n",
       "      <td>0.8</td>\n",
       "      <td>10.8</td>\n",
       "      <td>8.4</td>\n",
       "      <td>-1.0</td>\n",
       "      <td>5.3</td>\n",
       "    </tr>\n",
       "  </tbody>\n",
       "</table>\n",
       "<p>2557 rows × 5 columns</p>\n",
       "</div>"
      ],
      "text/plain": [
       "            957_AK_SNTL  968_AK_SNTL  1175_AK_SNTL  1177_AK_SNTL  1183_AK_SNTL\n",
       "2011-10-01         -9.9         -7.3          -5.5          -3.6          -3.6\n",
       "2011-10-02        -10.6         -7.6          -3.3          -4.4          -5.8\n",
       "2011-10-03         -6.8          1.6          -5.2          -0.1          -5.3\n",
       "2011-10-04         -4.3         -2.6          -6.7          -1.4          -3.0\n",
       "2011-10-05         -5.2         -4.6          -6.9          -3.4          -2.2\n",
       "...                 ...          ...           ...           ...           ...\n",
       "2018-09-26         -4.7         -2.8           3.9          -2.1          -7.7\n",
       "2018-09-27         -2.3          0.3          -0.2          -3.7           0.9\n",
       "2018-09-28         -4.7         -1.9           2.4           1.3           0.7\n",
       "2018-09-29         -3.1          4.4           6.3          -2.2          -4.9\n",
       "2018-09-30          0.8         10.8           8.4          -1.0           5.3\n",
       "\n",
       "[2557 rows x 5 columns]"
      ]
     },
     "execution_count": 10,
     "metadata": {},
     "output_type": "execute_result"
    }
   ],
   "source": [
    "######## TEMP ########\n",
    "# PATHS\n",
    "dataPath = '/nfs/attic/dfh/2020_NPRB/data/snotel/'+domain+'/'\n",
    "t = pd.read_csv(dataPath+'Station_data_TOBScelsius_'+st_dt+'_'+ed_dt+'.csv',index_col=0)\n",
    "t"
   ]
  },
  {
   "cell_type": "code",
   "execution_count": 11,
   "metadata": {},
   "outputs": [
    {
     "data": {
      "text/plain": [
       "<matplotlib.axes._subplots.AxesSubplot at 0x7f3e48e01b70>"
      ]
     },
     "execution_count": 11,
     "metadata": {},
     "output_type": "execute_result"
    },
    {
     "data": {
      "image/png": "[encoded data removed]",
      "text/plain": [
       "<Figure size 432x288 with 1 Axes>"
      ]
     },
     "metadata": {
      "needs_background": "light"
     },
     "output_type": "display_data"
    }
   ],
   "source": [
    "t.plot()"
   ]
  },
  {
   "cell_type": "code",
   "execution_count": 12,
   "metadata": {},
   "outputs": [],
   "source": [
    "# # for CHUK domain - had to remove invalid data\n",
    "# t['2213_AK_SCAN'].loc['2017-04-01':]=np.nan\n",
    "# out = dataPath + 'SNOTEL_data_TOBScelsius'+st_dt+'_'+ed_dt+'.csv'\n",
    "# t.to_csv(out)"
   ]
  },
  {
   "cell_type": "code",
   "execution_count": 13,
   "metadata": {},
   "outputs": [
    {
     "data": {
      "text/html": [
       "<div>\n",
       "<style scoped>\n",
       "    .dataframe tbody tr th:only-of-type {\n",
       "        vertical-align: middle;\n",
       "    }\n",
       "\n",
       "    .dataframe tbody tr th {\n",
       "        vertical-align: top;\n",
       "    }\n",
       "\n",
       "    .dataframe thead th {\n",
       "        text-align: right;\n",
       "    }\n",
       "</style>\n",
       "<table border=\"1\" class=\"dataframe\">\n",
       "  <thead>\n",
       "    <tr style=\"text-align: right;\">\n",
       "      <th></th>\n",
       "      <th>957_AK_SNTL</th>\n",
       "      <th>968_AK_SNTL</th>\n",
       "      <th>1175_AK_SNTL</th>\n",
       "      <th>1177_AK_SNTL</th>\n",
       "      <th>1183_AK_SNTL</th>\n",
       "    </tr>\n",
       "  </thead>\n",
       "  <tbody>\n",
       "    <tr>\n",
       "      <th>2011-10-01</th>\n",
       "      <td>0.00254</td>\n",
       "      <td>0.00000</td>\n",
       "      <td>0.0</td>\n",
       "      <td>0.00000</td>\n",
       "      <td>0.00000</td>\n",
       "    </tr>\n",
       "    <tr>\n",
       "      <th>2011-10-02</th>\n",
       "      <td>0.00000</td>\n",
       "      <td>0.00000</td>\n",
       "      <td>0.0</td>\n",
       "      <td>0.00254</td>\n",
       "      <td>0.00000</td>\n",
       "    </tr>\n",
       "    <tr>\n",
       "      <th>2011-10-03</th>\n",
       "      <td>0.00254</td>\n",
       "      <td>0.00000</td>\n",
       "      <td>0.0</td>\n",
       "      <td>0.00000</td>\n",
       "      <td>0.00000</td>\n",
       "    </tr>\n",
       "    <tr>\n",
       "      <th>2011-10-04</th>\n",
       "      <td>0.00254</td>\n",
       "      <td>0.00000</td>\n",
       "      <td>0.0</td>\n",
       "      <td>0.00000</td>\n",
       "      <td>0.00254</td>\n",
       "    </tr>\n",
       "    <tr>\n",
       "      <th>2011-10-05</th>\n",
       "      <td>0.00254</td>\n",
       "      <td>0.00000</td>\n",
       "      <td>0.0</td>\n",
       "      <td>0.00000</td>\n",
       "      <td>0.00000</td>\n",
       "    </tr>\n",
       "    <tr>\n",
       "      <th>...</th>\n",
       "      <td>...</td>\n",
       "      <td>...</td>\n",
       "      <td>...</td>\n",
       "      <td>...</td>\n",
       "      <td>...</td>\n",
       "    </tr>\n",
       "    <tr>\n",
       "      <th>2018-09-26</th>\n",
       "      <td>0.00254</td>\n",
       "      <td>0.00508</td>\n",
       "      <td>0.0</td>\n",
       "      <td>0.00000</td>\n",
       "      <td>0.00000</td>\n",
       "    </tr>\n",
       "    <tr>\n",
       "      <th>2018-09-27</th>\n",
       "      <td>0.00000</td>\n",
       "      <td>0.00000</td>\n",
       "      <td>0.0</td>\n",
       "      <td>0.00000</td>\n",
       "      <td>0.00000</td>\n",
       "    </tr>\n",
       "    <tr>\n",
       "      <th>2018-09-28</th>\n",
       "      <td>0.00000</td>\n",
       "      <td>0.00000</td>\n",
       "      <td>0.0</td>\n",
       "      <td>0.00000</td>\n",
       "      <td>0.00000</td>\n",
       "    </tr>\n",
       "    <tr>\n",
       "      <th>2018-09-29</th>\n",
       "      <td>0.00000</td>\n",
       "      <td>0.00000</td>\n",
       "      <td>0.0</td>\n",
       "      <td>0.00000</td>\n",
       "      <td>0.00000</td>\n",
       "    </tr>\n",
       "    <tr>\n",
       "      <th>2018-09-30</th>\n",
       "      <td>0.00000</td>\n",
       "      <td>0.00000</td>\n",
       "      <td>0.0</td>\n",
       "      <td>0.00000</td>\n",
       "      <td>0.00000</td>\n",
       "    </tr>\n",
       "  </tbody>\n",
       "</table>\n",
       "<p>2557 rows × 5 columns</p>\n",
       "</div>"
      ],
      "text/plain": [
       "            957_AK_SNTL  968_AK_SNTL  1175_AK_SNTL  1177_AK_SNTL  1183_AK_SNTL\n",
       "2011-10-01      0.00254      0.00000           0.0       0.00000       0.00000\n",
       "2011-10-02      0.00000      0.00000           0.0       0.00254       0.00000\n",
       "2011-10-03      0.00254      0.00000           0.0       0.00000       0.00000\n",
       "2011-10-04      0.00254      0.00000           0.0       0.00000       0.00254\n",
       "2011-10-05      0.00254      0.00000           0.0       0.00000       0.00000\n",
       "...                 ...          ...           ...           ...           ...\n",
       "2018-09-26      0.00254      0.00508           0.0       0.00000       0.00000\n",
       "2018-09-27      0.00000      0.00000           0.0       0.00000       0.00000\n",
       "2018-09-28      0.00000      0.00000           0.0       0.00000       0.00000\n",
       "2018-09-29      0.00000      0.00000           0.0       0.00000       0.00000\n",
       "2018-09-30      0.00000      0.00000           0.0       0.00000       0.00000\n",
       "\n",
       "[2557 rows x 5 columns]"
      ]
     },
     "execution_count": 13,
     "metadata": {},
     "output_type": "execute_result"
    }
   ],
   "source": [
    "######## PREC ########\n",
    "# PATHS\n",
    "dataPath = '/nfs/attic/dfh/2020_NPRB/data/snotel/'+domain+'/'\n",
    "p = pd.read_csv(dataPath+'Station_data_PRmeters_'+st_dt+'_'+ed_dt+'.csv',index_col=0)\n",
    "p"
   ]
  },
  {
   "cell_type": "code",
   "execution_count": 14,
   "metadata": {},
   "outputs": [
    {
     "data": {
      "text/plain": [
       "<matplotlib.axes._subplots.AxesSubplot at 0x7f3e61f0f278>"
      ]
     },
     "execution_count": 14,
     "metadata": {},
     "output_type": "execute_result"
    },
    {
     "data": {
      "image/png": "[encoded data removed]",
      "text/plain": [
       "<Figure size 432x288 with 1 Axes>"
      ]
     },
     "metadata": {
      "needs_background": "light"
     },
     "output_type": "display_data"
    }
   ],
   "source": [
    "p.plot()"
   ]
  },
  {
   "cell_type": "code",
   "execution_count": 15,
   "metadata": {},
   "outputs": [
    {
     "data": {
      "text/html": [
       "<div>\n",
       "<style scoped>\n",
       "    .dataframe tbody tr th:only-of-type {\n",
       "        vertical-align: middle;\n",
       "    }\n",
       "\n",
       "    .dataframe tbody tr th {\n",
       "        vertical-align: top;\n",
       "    }\n",
       "\n",
       "    .dataframe thead th {\n",
       "        text-align: right;\n",
       "    }\n",
       "</style>\n",
       "<table border=\"1\" class=\"dataframe\">\n",
       "  <thead>\n",
       "    <tr style=\"text-align: right;\">\n",
       "      <th></th>\n",
       "      <th>1175_AK_SNTL</th>\n",
       "    </tr>\n",
       "  </thead>\n",
       "  <tbody>\n",
       "    <tr>\n",
       "      <th>2011-10-01</th>\n",
       "      <td>0.0</td>\n",
       "    </tr>\n",
       "    <tr>\n",
       "      <th>2011-10-02</th>\n",
       "      <td>0.0</td>\n",
       "    </tr>\n",
       "    <tr>\n",
       "      <th>2011-10-03</th>\n",
       "      <td>0.0</td>\n",
       "    </tr>\n",
       "    <tr>\n",
       "      <th>2011-10-04</th>\n",
       "      <td>0.0</td>\n",
       "    </tr>\n",
       "    <tr>\n",
       "      <th>2011-10-05</th>\n",
       "      <td>0.0</td>\n",
       "    </tr>\n",
       "    <tr>\n",
       "      <th>...</th>\n",
       "      <td>...</td>\n",
       "    </tr>\n",
       "    <tr>\n",
       "      <th>2018-09-26</th>\n",
       "      <td>0.0</td>\n",
       "    </tr>\n",
       "    <tr>\n",
       "      <th>2018-09-27</th>\n",
       "      <td>0.0</td>\n",
       "    </tr>\n",
       "    <tr>\n",
       "      <th>2018-09-28</th>\n",
       "      <td>0.0</td>\n",
       "    </tr>\n",
       "    <tr>\n",
       "      <th>2018-09-29</th>\n",
       "      <td>0.0</td>\n",
       "    </tr>\n",
       "    <tr>\n",
       "      <th>2018-09-30</th>\n",
       "      <td>0.0</td>\n",
       "    </tr>\n",
       "  </tbody>\n",
       "</table>\n",
       "<p>2557 rows × 1 columns</p>\n",
       "</div>"
      ],
      "text/plain": [
       "            1175_AK_SNTL\n",
       "2011-10-01           0.0\n",
       "2011-10-02           0.0\n",
       "2011-10-03           0.0\n",
       "2011-10-04           0.0\n",
       "2011-10-05           0.0\n",
       "...                  ...\n",
       "2018-09-26           0.0\n",
       "2018-09-27           0.0\n",
       "2018-09-28           0.0\n",
       "2018-09-29           0.0\n",
       "2018-09-30           0.0\n",
       "\n",
       "[2557 rows x 1 columns]"
      ]
     },
     "execution_count": 15,
     "metadata": {},
     "output_type": "execute_result"
    }
   ],
   "source": [
    "######## SWED ########\n",
    "# PATHS\n",
    "dataPath = '/nfs/attic/dfh/2020_NPRB/data/snotel/'+domain+'/'\n",
    "swe = pd.read_csv(dataPath+'Station_data_SWEDmeters_'+st_dt+'_'+ed_dt+'.csv',index_col=0)\n",
    "swe"
   ]
  },
  {
   "cell_type": "code",
   "execution_count": 16,
   "metadata": {},
   "outputs": [
    {
     "data": {
      "text/plain": [
       "<matplotlib.axes._subplots.AxesSubplot at 0x7f3e61d55b00>"
      ]
     },
     "execution_count": 16,
     "metadata": {},
     "output_type": "execute_result"
    },
    {
     "data": {
      "image/png": "[encoded data removed]",
      "text/plain": [
       "<Figure size 432x288 with 1 Axes>"
      ]
     },
     "metadata": {
      "needs_background": "light"
     },
     "output_type": "display_data"
    }
   ],
   "source": [
    "swe.plot()"
   ]
  },
  {
   "cell_type": "code",
   "execution_count": null,
   "metadata": {},
   "outputs": [],
   "source": []
  }
 ],
 "metadata": {
  "kernelspec": {
   "display_name": "Python [conda env:snowmodelcal]",
   "language": "python",
   "name": "conda-env-snowmodelcal-py"
  },
  "language_info": {
   "codemirror_mode": {
    "name": "ipython",
    "version": 3
   },
   "file_extension": ".py",
   "mimetype": "text/x-python",
   "name": "python",
   "nbconvert_exporter": "python",
   "pygments_lexer": "ipython3",
   "version": "3.6.10"
  }
 },
 "nbformat": 4,
 "nbformat_minor": 4
}
