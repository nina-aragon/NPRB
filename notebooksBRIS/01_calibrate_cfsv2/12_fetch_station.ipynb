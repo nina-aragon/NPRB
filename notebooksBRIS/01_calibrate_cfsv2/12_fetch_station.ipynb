{
 "cells": [
  {
   "cell_type": "markdown",
   "metadata": {},
   "source": [
    "# Fetch and export SNOTEL sites and daily time series data"
   ]
  },
  {
   "cell_type": "code",
   "execution_count": 1,
   "metadata": {},
   "outputs": [],
   "source": [
    "from collections import OrderedDict\n",
    "import numpy as np\n",
    "import pandas as pd\n",
    "import geopandas as gpd\n",
    "from shapely import geometry as sgeom\n",
    "import ulmo\n",
    "import json\n",
    "import requests\n",
    "import rioxarray as rxr"
   ]
  },
  {
   "cell_type": "code",
   "execution_count": 2,
   "metadata": {},
   "outputs": [],
   "source": [
    "#########################################################################\n",
    "############################ USER INPUTS ################################\n",
    "#########################################################################\n",
    "\n",
    "# DOMAIN\n",
    "# choose the modeling domain\n",
    "domain = 'BRIS'\n",
    "\n",
    "# PATHS\n",
    "dataPath = '/nfs/attic/dfh/2020_NPRB/data/snotel/'+domain+'/'\n",
    "\n",
    "# DATES\n",
    "#start calibration date    \n",
    "st_dt = '2011-10-01'\n",
    "#end calibration date\n",
    "ed_dt = '2018-09-30'\n",
    "\n",
    "#########################################################################"
   ]
  },
  {
   "cell_type": "code",
   "execution_count": 3,
   "metadata": {},
   "outputs": [],
   "source": [
    "# functions to get stations as geodataframe\n",
    "def sites_asgdf(ulmo_getsites, stn_proj):\n",
    "    \"\"\" Convert ulmo.cuahsi.wof.get_sites response into a point GeoDataframe\n",
    "    \"\"\"\n",
    "    \n",
    "    # Note: Found one SNOTEL site that was missing the location key\n",
    "    sites_df = pd.DataFrame.from_records([\n",
    "        OrderedDict(code=s['code'], \n",
    "        longitude=float(s['location']['longitude']), \n",
    "        latitude=float(s['location']['latitude']), \n",
    "        name=s['name'], \n",
    "        elevation_m=s['elevation_m'])\n",
    "        for _,s in ulmo_getsites.items()\n",
    "        if 'location' in s\n",
    "    ])\n",
    "\n",
    "    sites_gdf = gpd.GeoDataFrame(\n",
    "        sites_df, \n",
    "        geometry=gpd.points_from_xy(sites_df['longitude'], sites_df['latitude']),\n",
    "        crs=stn_proj\n",
    "    )\n",
    "    return sites_gdf\n",
    "\n",
    "def get_stns(domain):\n",
    "    \n",
    "    #path to domains\n",
    "    domains_resp = requests.get(\"https://raw.githubusercontent.com/NPRB/02_preprocess_python/main/NPRB_domains.json\")\n",
    "    domains = domains_resp.json()\n",
    "\n",
    "    #Snotel bounding box\n",
    "    Bbox = domains[domain]['Bbox']\n",
    "\n",
    "    # Snotel projection\n",
    "    stn_proj = domains[domain]['stn_proj']\n",
    "    # model projection\n",
    "    mod_proj = domains[domain]['mod_proj']\n",
    "\n",
    "    # Convert the bounding box dictionary to a shapely Polygon geometry using sgeom.box\n",
    "    box_sgeom = sgeom.box(Bbox['lonmin'], Bbox['latmin'], Bbox['lonmax'], Bbox['latmax'])\n",
    "    box_gdf = gpd.GeoDataFrame(geometry=[box_sgeom], crs=stn_proj)\n",
    "    \n",
    "    # WaterML/WOF WSDL endpoint url \n",
    "    #snotel \n",
    "    wsdlurl = \"https://hydroportal.cuahsi.org/Snotel/cuahsi_1_1.asmx?WSDL\"\n",
    "\n",
    "    # get dictionary of snotel sites \n",
    "    sites = ulmo.cuahsi.wof.get_sites(wsdlurl,user_cache=True)\n",
    "\n",
    "    #turn sites to geodataframe \n",
    "    snotel_gdf = sites_asgdf(sites,stn_proj)\n",
    "    \n",
    "    #clip snotel sites to domain bounding box\n",
    "    gdf1 = gpd.sjoin(snotel_gdf, box_gdf, how=\"inner\")\n",
    "    gdf1.drop(columns='index_right', inplace=True)\n",
    "    gdf1.reset_index(drop=True, inplace=True)\n",
    "    \n",
    "    #scan (east coast & AK)\n",
    "    wsdlurl_scan = \"https://hydroportal.cuahsi.org/Scan/cuahsi_1_1.asmx?WSDL\"\n",
    "    \n",
    "    # get dictionary of scan sites \n",
    "    scan_sites = ulmo.cuahsi.wof.get_sites(wsdlurl_scan,user_cache=True)\n",
    "    \n",
    "    #turn sites to geodataframe \n",
    "    scan_gdf = sites_asgdf(scan_sites,stn_proj)\n",
    "    \n",
    "    #clip scan sites to domain bounding box\n",
    "    gdf2 = gpd.sjoin(scan_gdf, box_gdf, how=\"inner\")\n",
    "    gdf2.drop(columns='index_right', inplace=True)\n",
    "    gdf2.reset_index(drop=True, inplace=True)\n",
    "    \n",
    "    # concatenate snotel and scan\n",
    "    frames = [gdf1, gdf2]\n",
    "    gdfs = pd.concat(frames)\n",
    "\n",
    "    #add columns with projected coordinates \n",
    "    CSO_proj = gdfs.to_crs(mod_proj)\n",
    "    gdfs['easting'] = CSO_proj.geometry.x\n",
    "    gdfs['northing'] = CSO_proj.geometry.y\n",
    "    gdfs.reset_index(drop=True, inplace=True)\n",
    "    \n",
    "    return gdfs"
   ]
  },
  {
   "cell_type": "code",
   "execution_count": 4,
   "metadata": {},
   "outputs": [],
   "source": [
    "def fetch(sitecode, variablecode, start_date, end_date):\n",
    "    print(sitecode, variablecode, start_date, end_date)\n",
    "    values_df = None\n",
    "    #snotel \n",
    "    wsdlurl = \"https://hydroportal.cuahsi.org/Snotel/cuahsi_1_1.asmx?WSDL\"\n",
    "    try:\n",
    "        #Request data from the server\n",
    "        site_values = ulmo.cuahsi.wof.get_values(\n",
    "            wsdlurl, 'SNOTEL:'+sitecode, variablecode, start=start_date, end=end_date\n",
    "        )\n",
    "        #Convert to a Pandas DataFrame   \n",
    "        values_df = pd.DataFrame.from_dict(site_values['values'])\n",
    "        #Parse the datetime values to Pandas Timestamp objects\n",
    "        values_df['datetime'] = pd.to_datetime(values_df['datetime'])\n",
    "        #Set the DataFrame index to the Timestamps\n",
    "        values_df.set_index('datetime', inplace=True)\n",
    "        #Convert values to float and replace -9999 nodata values with NaN\n",
    "        values_df['value'] = pd.to_numeric(values_df['value']).replace(-9999, np.nan)\n",
    "        #Remove any records flagged with lower quality\n",
    "        values_df = values_df[values_df['quality_control_level_code'] == '1']\n",
    "    except:\n",
    "        print(\"Unable to fetch %s\" % variablecode)\n",
    "    \n",
    "    return values_df"
   ]
  },
  {
   "cell_type": "code",
   "execution_count": 5,
   "metadata": {},
   "outputs": [],
   "source": [
    "def fetch_scan(sitecode, variablecode, start_date, end_date):\n",
    "    print(sitecode, variablecode, start_date, end_date)\n",
    "    values_df = None\n",
    "    #scan\n",
    "    wsdlurl = \"https://hydroportal.cuahsi.org/Scan/cuahsi_1_1.asmx?WSDL\"\n",
    "    try:\n",
    "        #Request data from the server\n",
    "        site_values = ulmo.cuahsi.wof.get_values(\n",
    "            wsdlurl, 'SCAN:'+sitecode, variablecode, start=start_date, end=end_date\n",
    "        )\n",
    "        #Convert to a Pandas DataFrame   \n",
    "        values_df = pd.DataFrame.from_dict(site_values['values'])\n",
    "        #Parse the datetime values to Pandas Timestamp objects\n",
    "        values_df['datetime'] = pd.to_datetime(values_df['datetime'])\n",
    "        #Set the DataFrame index to the Timestamps\n",
    "        values_df.set_index('datetime', inplace=True)\n",
    "        #Convert values to float and replace -9999 nodata values with NaN\n",
    "        values_df['value'] = pd.to_numeric(values_df['value']).replace(-9999, np.nan)\n",
    "        #Remove any records flagged with lower quality\n",
    "        values_df = values_df[values_df['quality_control_level_code'] == '1']\n",
    "    except:\n",
    "        print(\"Unable to fetch %s\" % variablecode)\n",
    "    \n",
    "    return values_df"
   ]
  },
  {
   "cell_type": "code",
   "execution_count": 6,
   "metadata": {},
   "outputs": [],
   "source": [
    "# returns daily timeseries\n",
    "# https://www.wcc.nrcs.usda.gov/web_service/AWDB_Web_Service_Reference.htm#commonlyUsedElementCodes\n",
    "# 'WTEQ': swe [in]\n",
    "# 'SNWD': snow depth [in]\n",
    "# 'PRCP': precipitation increment [in]\n",
    "# 'PREC': precipitation accumulation [in]\n",
    "# 'TAVG': average air temp [F]\n",
    "# 'TMIN': minimum air temp [F]\n",
    "# 'TMAX': maximum air temp [F]\n",
    "# 'TOBS': observered air temp [F]\n",
    "def get_stn_data(gdf,sd_dt, ed_dt,var,units='metric'):\n",
    "    '''\n",
    "    gdf - pandas geodataframe of SNOTEL sites\n",
    "    st_dt - start date string 'yyyy-mm-dd'\n",
    "    ed_dt - end date string 'yyyy-mm-dd'\n",
    "    var - snotel variable of interest \n",
    "    units - 'metric' (default) or 'imperial'\n",
    "    '''\n",
    "    #empty dataframe for station data\n",
    "    stn_data = pd.DataFrame(index=pd.date_range(start=st_dt, end=ed_dt))\n",
    "\n",
    "    for sitecode in gdf.code:\n",
    "        # get snotel daily data\n",
    "        if sitecode[-4:] == 'SNTL':\n",
    "            try:\n",
    "                data = fetch(sitecode,'SNOTEL:'+var+'_D', start_date=st_dt, end_date=ed_dt)\n",
    "                stn_data[sitecode] = data.value\n",
    "            except:\n",
    "                print('droping '+sitecode)\n",
    "        # get scan daily data\n",
    "        if sitecode[-4:] == 'SCAN':\n",
    "            try:\n",
    "                data = fetch_scan(sitecode,'SCAN:'+var+'_D', start_date=st_dt, end_date=ed_dt)\n",
    "                stn_data[sitecode] = data.value\n",
    "            except:\n",
    "                print('dropping '+sitecode)\n",
    "    # grop stations with no data from gdf\n",
    "    gdffinal = gdf[gdf.code.isin(stn_data.columns)]\n",
    "    gdffinal.reset_index(drop=True, inplace=True)\n",
    "    # convert units\n",
    "    if units == 'metric':\n",
    "        if (var == 'WTEQ') |(var == 'SNWD') |(var == 'PRCP') |(var == 'PREC'):\n",
    "            #convert depth units [in] to [m]\n",
    "            for sitecode in gdffinal.code:\n",
    "                stn_data[sitecode] = 0.0254 * stn_data[sitecode]\n",
    "        elif (var == 'TAVG') |(var == 'TMIN') |(var == 'TMAX') |(var == 'TOBS'):\n",
    "            #convert temp units [F] to [C]\n",
    "            for sitecode in gdffinal.code:\n",
    "                stn_data[sitecode] = (stn_data[sitecode] - 32) * 5/9\n",
    "            # remove missing data\n",
    "            stn_data[stn_data<-99]=np.nan\n",
    "    elif units == 'imperial':\n",
    "        stn_data = stn_data\n",
    "    return gdffinal, stn_data"
   ]
  },
  {
   "cell_type": "code",
   "execution_count": 7,
   "metadata": {},
   "outputs": [],
   "source": [
    "def check_stn_bounds(domain,instnGDF):\n",
    "    #open .tif\n",
    "    DA = rxr.open_rasterio('/nfs/attic/dfh/2020_NPRB/data/SMinputs/'+domain+'/'+domain+'_dem.tif')\n",
    "    #get bounds\n",
    "    bnds = DA.rio.bounds()\n",
    "    #build bounding box\n",
    "    box_sgeom = sgeom.box(bnds[0], bnds[1], bnds[2], bnds[3])\n",
    "    #path to domains\n",
    "    domains_resp = requests.get(\"https://raw.githubusercontent.com/NPRB/02_preprocess_python/main/NPRB_domains.json\")\n",
    "    domains = domains_resp.json()\n",
    "    # domain projection\n",
    "    mod_proj = domains[domain]['mod_proj']\n",
    "    box_gdf = gpd.GeoDataFrame(geometry=[box_sgeom], crs=mod_proj)\n",
    "    #get geodataframe of all SNOTEL sites in the domain\n",
    "    stnGDFproj = instnGDF.to_crs(mod_proj)\n",
    "    #clip snotel sites to domain bounding box\n",
    "    gdf1 = gpd.sjoin(stnGDFproj, box_gdf, how=\"inner\")\n",
    "    gdf1.drop(columns='index_right', inplace=True)\n",
    "    gdf1.reset_index(drop=True, inplace=True)\n",
    "    return gdf1"
   ]
  },
  {
   "cell_type": "code",
   "execution_count": 8,
   "metadata": {},
   "outputs": [
    {
     "name": "stdout",
     "output_type": "stream",
     "text": [
      "BRIS\n",
      "14\n",
      "0     1062_AK_SNTL\n",
      "1      201_AK_SNTL\n",
      "2     1191_AK_SNTL\n",
      "3      987_AK_SNTL\n",
      "4     1266_AK_SNTL\n",
      "5     1232_AK_SCAN\n",
      "6     2211_AK_SCAN\n",
      "7     2208_AK_SCAN\n",
      "8     1233_AK_SCAN\n",
      "9     2062_AK_SCAN\n",
      "10    2209_AK_SCAN\n",
      "11    2063_AK_SCAN\n",
      "12    2221_AK_SCAN\n",
      "13    1234_AK_SCAN\n",
      "Name: code, dtype: object\n"
     ]
    },
    {
     "data": {
      "image/png": "[encoded data removed]",
      "text/plain": [
       "<Figure size 432x288 with 1 Axes>"
      ]
     },
     "metadata": {
      "needs_background": "light"
     },
     "output_type": "display_data"
    }
   ],
   "source": [
    "import matplotlib.pyplot as plt\n",
    "# run all AK domains\n",
    "domain_list = [domain]\n",
    "\n",
    "for domain in domain_list:\n",
    "    print(domain)\n",
    "    #get geodataframe of all SNOTEL and SCAN sites in the domain\n",
    "    snotel_gdf = get_stns(domain)\n",
    "    print(len(snotel_gdf))\n",
    "    print(snotel_gdf.code)\n",
    "    if len(snotel_gdf)>0:\n",
    "        fig, ax = plt.subplots()\n",
    "        snotel_gdf.plot(ax=ax)"
   ]
  },
  {
   "cell_type": "markdown",
   "metadata": {},
   "source": [
    "# Execute Functions"
   ]
  },
  {
   "cell_type": "code",
   "execution_count": 9,
   "metadata": {},
   "outputs": [
    {
     "name": "stdout",
     "output_type": "stream",
     "text": [
      "1062_AK_SNTL SNOTEL:TOBS_D 2011-10-01 2018-09-30\n",
      "201_AK_SNTL SNOTEL:TOBS_D 2011-10-01 2018-09-30\n"
     ]
    },
    {
     "name": "stderr",
     "output_type": "stream",
     "text": [
      "<suds.sax.document.Document object at 0x7f5ede84fcf8>\n"
     ]
    },
    {
     "name": "stdout",
     "output_type": "stream",
     "text": [
      "Unable to fetch SNOTEL:TOBS_D\n",
      "droping 201_AK_SNTL\n",
      "1191_AK_SNTL SNOTEL:TOBS_D 2011-10-01 2018-09-30\n",
      "987_AK_SNTL SNOTEL:TOBS_D 2011-10-01 2018-09-30\n",
      "1266_AK_SNTL SNOTEL:TOBS_D 2011-10-01 2018-09-30\n",
      "1232_AK_SCAN SCAN:TOBS_D 2011-10-01 2018-09-30\n",
      "2211_AK_SCAN SCAN:TOBS_D 2011-10-01 2018-09-30\n",
      "2208_AK_SCAN SCAN:TOBS_D 2011-10-01 2018-09-30\n",
      "1233_AK_SCAN SCAN:TOBS_D 2011-10-01 2018-09-30\n",
      "2062_AK_SCAN SCAN:TOBS_D 2011-10-01 2018-09-30\n"
     ]
    },
    {
     "name": "stderr",
     "output_type": "stream",
     "text": [
      "<suds.sax.document.Document object at 0x7f5eef0187f0>\n"
     ]
    },
    {
     "name": "stdout",
     "output_type": "stream",
     "text": [
      "Unable to fetch SCAN:TOBS_D\n",
      "dropping 2062_AK_SCAN\n",
      "2209_AK_SCAN SCAN:TOBS_D 2011-10-01 2018-09-30\n",
      "2063_AK_SCAN SCAN:TOBS_D 2011-10-01 2018-09-30\n"
     ]
    },
    {
     "name": "stderr",
     "output_type": "stream",
     "text": [
      "<suds.sax.document.Document object at 0x7f5edea5e320>\n"
     ]
    },
    {
     "name": "stdout",
     "output_type": "stream",
     "text": [
      "Unable to fetch SCAN:TOBS_D\n",
      "dropping 2063_AK_SCAN\n",
      "2221_AK_SCAN SCAN:TOBS_D 2011-10-01 2018-09-30\n",
      "1234_AK_SCAN SCAN:TOBS_D 2011-10-01 2018-09-30\n",
      "1062_AK_SNTL SNOTEL:PRCP_D 2011-10-01 2018-09-30\n",
      "201_AK_SNTL SNOTEL:PRCP_D 2011-10-01 2018-09-30\n"
     ]
    },
    {
     "name": "stderr",
     "output_type": "stream",
     "text": [
      "<suds.sax.document.Document object at 0x7f5ede945710>\n"
     ]
    },
    {
     "name": "stdout",
     "output_type": "stream",
     "text": [
      "Unable to fetch SNOTEL:PRCP_D\n",
      "droping 201_AK_SNTL\n",
      "1191_AK_SNTL SNOTEL:PRCP_D 2011-10-01 2018-09-30\n",
      "987_AK_SNTL SNOTEL:PRCP_D 2011-10-01 2018-09-30\n",
      "1266_AK_SNTL SNOTEL:PRCP_D 2011-10-01 2018-09-30\n",
      "1232_AK_SCAN SCAN:PRCP_D 2011-10-01 2018-09-30\n",
      "2211_AK_SCAN SCAN:PRCP_D 2011-10-01 2018-09-30\n",
      "2208_AK_SCAN SCAN:PRCP_D 2011-10-01 2018-09-30\n",
      "1233_AK_SCAN SCAN:PRCP_D 2011-10-01 2018-09-30\n",
      "2062_AK_SCAN SCAN:PRCP_D 2011-10-01 2018-09-30\n",
      "2209_AK_SCAN SCAN:PRCP_D 2011-10-01 2018-09-30\n",
      "2063_AK_SCAN SCAN:PRCP_D 2011-10-01 2018-09-30\n",
      "2221_AK_SCAN SCAN:PRCP_D 2011-10-01 2018-09-30\n",
      "1234_AK_SCAN SCAN:PRCP_D 2011-10-01 2018-09-30\n",
      "1062_AK_SNTL SNOTEL:WTEQ_D 2011-10-01 2018-09-30\n",
      "201_AK_SNTL SNOTEL:WTEQ_D 2011-10-01 2018-09-30\n"
     ]
    },
    {
     "name": "stderr",
     "output_type": "stream",
     "text": [
      "<suds.sax.document.Document object at 0x7f5ed5faaa58>\n"
     ]
    },
    {
     "name": "stdout",
     "output_type": "stream",
     "text": [
      "Unable to fetch SNOTEL:WTEQ_D\n",
      "droping 201_AK_SNTL\n",
      "1191_AK_SNTL SNOTEL:WTEQ_D 2011-10-01 2018-09-30\n"
     ]
    },
    {
     "name": "stderr",
     "output_type": "stream",
     "text": [
      "<suds.sax.document.Document object at 0x7f5edeaa7898>\n"
     ]
    },
    {
     "name": "stdout",
     "output_type": "stream",
     "text": [
      "Unable to fetch SNOTEL:WTEQ_D\n",
      "droping 1191_AK_SNTL\n",
      "987_AK_SNTL SNOTEL:WTEQ_D 2011-10-01 2018-09-30\n",
      "1266_AK_SNTL SNOTEL:WTEQ_D 2011-10-01 2018-09-30\n",
      "1232_AK_SCAN SCAN:WTEQ_D 2011-10-01 2018-09-30\n"
     ]
    },
    {
     "name": "stderr",
     "output_type": "stream",
     "text": [
      "<suds.sax.document.Document object at 0x7f5eef100160>\n"
     ]
    },
    {
     "name": "stdout",
     "output_type": "stream",
     "text": [
      "Unable to fetch SCAN:WTEQ_D\n",
      "dropping 1232_AK_SCAN\n",
      "2211_AK_SCAN SCAN:WTEQ_D 2011-10-01 2018-09-30\n"
     ]
    },
    {
     "name": "stderr",
     "output_type": "stream",
     "text": [
      "<suds.sax.document.Document object at 0x7f5edea08470>\n"
     ]
    },
    {
     "name": "stdout",
     "output_type": "stream",
     "text": [
      "Unable to fetch SCAN:WTEQ_D\n",
      "dropping 2211_AK_SCAN\n",
      "2208_AK_SCAN SCAN:WTEQ_D 2011-10-01 2018-09-30\n"
     ]
    },
    {
     "name": "stderr",
     "output_type": "stream",
     "text": [
      "<suds.sax.document.Document object at 0x7f5ede9c7a58>\n"
     ]
    },
    {
     "name": "stdout",
     "output_type": "stream",
     "text": [
      "Unable to fetch SCAN:WTEQ_D\n",
      "dropping 2208_AK_SCAN\n",
      "1233_AK_SCAN SCAN:WTEQ_D 2011-10-01 2018-09-30\n"
     ]
    },
    {
     "name": "stderr",
     "output_type": "stream",
     "text": [
      "<suds.sax.document.Document object at 0x7f5edea24c50>\n"
     ]
    },
    {
     "name": "stdout",
     "output_type": "stream",
     "text": [
      "Unable to fetch SCAN:WTEQ_D\n",
      "dropping 1233_AK_SCAN\n",
      "2062_AK_SCAN SCAN:WTEQ_D 2011-10-01 2018-09-30\n"
     ]
    },
    {
     "name": "stderr",
     "output_type": "stream",
     "text": [
      "<suds.sax.document.Document object at 0x7f5eeefe6c88>\n"
     ]
    },
    {
     "name": "stdout",
     "output_type": "stream",
     "text": [
      "Unable to fetch SCAN:WTEQ_D\n",
      "dropping 2062_AK_SCAN\n",
      "2209_AK_SCAN SCAN:WTEQ_D 2011-10-01 2018-09-30\n"
     ]
    },
    {
     "name": "stderr",
     "output_type": "stream",
     "text": [
      "<suds.sax.document.Document object at 0x7f5eef00b8d0>\n"
     ]
    },
    {
     "name": "stdout",
     "output_type": "stream",
     "text": [
      "Unable to fetch SCAN:WTEQ_D\n",
      "dropping 2209_AK_SCAN\n",
      "2063_AK_SCAN SCAN:WTEQ_D 2011-10-01 2018-09-30\n"
     ]
    },
    {
     "name": "stderr",
     "output_type": "stream",
     "text": [
      "<suds.sax.document.Document object at 0x7f5edea14c50>\n"
     ]
    },
    {
     "name": "stdout",
     "output_type": "stream",
     "text": [
      "Unable to fetch SCAN:WTEQ_D\n",
      "dropping 2063_AK_SCAN\n",
      "2221_AK_SCAN SCAN:WTEQ_D 2011-10-01 2018-09-30\n"
     ]
    },
    {
     "name": "stderr",
     "output_type": "stream",
     "text": [
      "<suds.sax.document.Document object at 0x7f5eeeeda080>\n"
     ]
    },
    {
     "name": "stdout",
     "output_type": "stream",
     "text": [
      "Unable to fetch SCAN:WTEQ_D\n",
      "dropping 2221_AK_SCAN\n",
      "1234_AK_SCAN SCAN:WTEQ_D 2011-10-01 2018-09-30\n"
     ]
    },
    {
     "name": "stderr",
     "output_type": "stream",
     "text": [
      "<suds.sax.document.Document object at 0x7f5edea1f470>\n"
     ]
    },
    {
     "name": "stdout",
     "output_type": "stream",
     "text": [
      "Unable to fetch SCAN:WTEQ_D\n",
      "dropping 1234_AK_SCAN\n"
     ]
    }
   ],
   "source": [
    "#get geodataframe of all SNOTEL and SCAN sites in the domain\n",
    "stnGDF = get_stns(domain)\n",
    "#ensure all sites are within domain bounds\n",
    "stnGDF = check_stn_bounds(domain,stnGDF)\n",
    "\n",
    "#get observed temp timeseries \n",
    "domain_gdfT, tob = get_stn_data(stnGDF,st_dt, ed_dt,'TOBS')\n",
    "\n",
    "# save geojson\n",
    "out = dataPath + 'Station_sites_TOBScelcius_'+domain+'_'+st_dt+'_'+ed_dt+'.geojson'\n",
    "domain_gdfT.to_file(out, driver='GeoJSON')\n",
    "\n",
    "#save tobs\n",
    "out = dataPath + 'Station_data_TOBScelsius_'+st_dt+'_'+ed_dt+'.csv'\n",
    "tob.to_csv(out)\n",
    "\n",
    "#get precipitation timeseries \n",
    "domain_gdfP, pr = get_stn_data(stnGDF,st_dt,ed_dt,'PRCP')\n",
    "\n",
    "# save geojson\n",
    "out = dataPath + 'Station_sites_PRmeters_'+domain+'_'+st_dt+'_'+ed_dt+'.geojson'\n",
    "domain_gdfP.to_file(out, driver='GeoJSON')\n",
    "\n",
    "#save pr\n",
    "out = dataPath + 'Station_data_PRmeters_'+st_dt+'_'+ed_dt+'.csv'\n",
    "pr.to_csv(out)\n",
    "\n",
    "#get swe timeseries \n",
    "domain_gdfSWE, swe = get_stn_data(stnGDF,st_dt,ed_dt,'WTEQ')\n",
    "\n",
    "# save geojson\n",
    "out = dataPath + 'Station_sites_SWEDmeters_'+domain+'_'+st_dt+'_'+ed_dt+'.geojson'\n",
    "domain_gdfSWE.to_file(out, driver='GeoJSON')\n",
    "\n",
    "#save swe\n",
    "out = dataPath + 'Station_data_SWEDmeters_'+st_dt+'_'+ed_dt+'.csv'\n",
    "swe.to_csv(out)"
   ]
  },
  {
   "cell_type": "markdown",
   "metadata": {},
   "source": [
    "# clean data\n",
    "\n",
    "Each station should be checked to remove bad data."
   ]
  },
  {
   "cell_type": "markdown",
   "metadata": {},
   "source": [
    "## BRIS\n"
   ]
  },
  {
   "cell_type": "code",
   "execution_count": 10,
   "metadata": {},
   "outputs": [
    {
     "data": {
      "text/html": [
       "<div>\n",
       "<style scoped>\n",
       "    .dataframe tbody tr th:only-of-type {\n",
       "        vertical-align: middle;\n",
       "    }\n",
       "\n",
       "    .dataframe tbody tr th {\n",
       "        vertical-align: top;\n",
       "    }\n",
       "\n",
       "    .dataframe thead th {\n",
       "        text-align: right;\n",
       "    }\n",
       "</style>\n",
       "<table border=\"1\" class=\"dataframe\">\n",
       "  <thead>\n",
       "    <tr style=\"text-align: right;\">\n",
       "      <th></th>\n",
       "      <th>1062_AK_SNTL</th>\n",
       "      <th>1191_AK_SNTL</th>\n",
       "      <th>987_AK_SNTL</th>\n",
       "      <th>1266_AK_SNTL</th>\n",
       "      <th>1232_AK_SCAN</th>\n",
       "      <th>2211_AK_SCAN</th>\n",
       "      <th>2208_AK_SCAN</th>\n",
       "      <th>1233_AK_SCAN</th>\n",
       "      <th>2209_AK_SCAN</th>\n",
       "      <th>2221_AK_SCAN</th>\n",
       "      <th>1234_AK_SCAN</th>\n",
       "    </tr>\n",
       "  </thead>\n",
       "  <tbody>\n",
       "    <tr>\n",
       "      <th>2011-10-01</th>\n",
       "      <td>2.1</td>\n",
       "      <td>NaN</td>\n",
       "      <td>4.7</td>\n",
       "      <td>NaN</td>\n",
       "      <td>NaN</td>\n",
       "      <td>NaN</td>\n",
       "      <td>NaN</td>\n",
       "      <td>NaN</td>\n",
       "      <td>NaN</td>\n",
       "      <td>NaN</td>\n",
       "      <td>NaN</td>\n",
       "    </tr>\n",
       "    <tr>\n",
       "      <th>2011-10-02</th>\n",
       "      <td>2.5</td>\n",
       "      <td>NaN</td>\n",
       "      <td>5.5</td>\n",
       "      <td>NaN</td>\n",
       "      <td>NaN</td>\n",
       "      <td>NaN</td>\n",
       "      <td>NaN</td>\n",
       "      <td>NaN</td>\n",
       "      <td>NaN</td>\n",
       "      <td>NaN</td>\n",
       "      <td>NaN</td>\n",
       "    </tr>\n",
       "    <tr>\n",
       "      <th>2011-10-03</th>\n",
       "      <td>2.1</td>\n",
       "      <td>NaN</td>\n",
       "      <td>5.1</td>\n",
       "      <td>NaN</td>\n",
       "      <td>NaN</td>\n",
       "      <td>NaN</td>\n",
       "      <td>NaN</td>\n",
       "      <td>NaN</td>\n",
       "      <td>NaN</td>\n",
       "      <td>NaN</td>\n",
       "      <td>NaN</td>\n",
       "    </tr>\n",
       "    <tr>\n",
       "      <th>2011-10-04</th>\n",
       "      <td>0.9</td>\n",
       "      <td>NaN</td>\n",
       "      <td>3.3</td>\n",
       "      <td>NaN</td>\n",
       "      <td>NaN</td>\n",
       "      <td>NaN</td>\n",
       "      <td>NaN</td>\n",
       "      <td>NaN</td>\n",
       "      <td>NaN</td>\n",
       "      <td>NaN</td>\n",
       "      <td>NaN</td>\n",
       "    </tr>\n",
       "    <tr>\n",
       "      <th>2011-10-05</th>\n",
       "      <td>0.3</td>\n",
       "      <td>NaN</td>\n",
       "      <td>2.1</td>\n",
       "      <td>NaN</td>\n",
       "      <td>NaN</td>\n",
       "      <td>NaN</td>\n",
       "      <td>NaN</td>\n",
       "      <td>NaN</td>\n",
       "      <td>NaN</td>\n",
       "      <td>NaN</td>\n",
       "      <td>NaN</td>\n",
       "    </tr>\n",
       "    <tr>\n",
       "      <th>...</th>\n",
       "      <td>...</td>\n",
       "      <td>...</td>\n",
       "      <td>...</td>\n",
       "      <td>...</td>\n",
       "      <td>...</td>\n",
       "      <td>...</td>\n",
       "      <td>...</td>\n",
       "      <td>...</td>\n",
       "      <td>...</td>\n",
       "      <td>...</td>\n",
       "      <td>...</td>\n",
       "    </tr>\n",
       "    <tr>\n",
       "      <th>2018-09-26</th>\n",
       "      <td>NaN</td>\n",
       "      <td>4.4</td>\n",
       "      <td>4.8</td>\n",
       "      <td>5.4</td>\n",
       "      <td>NaN</td>\n",
       "      <td>NaN</td>\n",
       "      <td>NaN</td>\n",
       "      <td>NaN</td>\n",
       "      <td>NaN</td>\n",
       "      <td>NaN</td>\n",
       "      <td>NaN</td>\n",
       "    </tr>\n",
       "    <tr>\n",
       "      <th>2018-09-27</th>\n",
       "      <td>NaN</td>\n",
       "      <td>9.3</td>\n",
       "      <td>7.4</td>\n",
       "      <td>4.4</td>\n",
       "      <td>NaN</td>\n",
       "      <td>NaN</td>\n",
       "      <td>NaN</td>\n",
       "      <td>NaN</td>\n",
       "      <td>NaN</td>\n",
       "      <td>NaN</td>\n",
       "      <td>NaN</td>\n",
       "    </tr>\n",
       "    <tr>\n",
       "      <th>2018-09-28</th>\n",
       "      <td>NaN</td>\n",
       "      <td>9.2</td>\n",
       "      <td>8.8</td>\n",
       "      <td>7.9</td>\n",
       "      <td>NaN</td>\n",
       "      <td>NaN</td>\n",
       "      <td>NaN</td>\n",
       "      <td>NaN</td>\n",
       "      <td>NaN</td>\n",
       "      <td>NaN</td>\n",
       "      <td>NaN</td>\n",
       "    </tr>\n",
       "    <tr>\n",
       "      <th>2018-09-29</th>\n",
       "      <td>NaN</td>\n",
       "      <td>10.5</td>\n",
       "      <td>9.8</td>\n",
       "      <td>6.9</td>\n",
       "      <td>NaN</td>\n",
       "      <td>NaN</td>\n",
       "      <td>NaN</td>\n",
       "      <td>NaN</td>\n",
       "      <td>NaN</td>\n",
       "      <td>NaN</td>\n",
       "      <td>NaN</td>\n",
       "    </tr>\n",
       "    <tr>\n",
       "      <th>2018-09-30</th>\n",
       "      <td>NaN</td>\n",
       "      <td>10.6</td>\n",
       "      <td>6.9</td>\n",
       "      <td>8.6</td>\n",
       "      <td>NaN</td>\n",
       "      <td>NaN</td>\n",
       "      <td>NaN</td>\n",
       "      <td>NaN</td>\n",
       "      <td>NaN</td>\n",
       "      <td>NaN</td>\n",
       "      <td>NaN</td>\n",
       "    </tr>\n",
       "  </tbody>\n",
       "</table>\n",
       "<p>2557 rows × 11 columns</p>\n",
       "</div>"
      ],
      "text/plain": [
       "            1062_AK_SNTL  1191_AK_SNTL  987_AK_SNTL  1266_AK_SNTL  \\\n",
       "2011-10-01           2.1           NaN          4.7           NaN   \n",
       "2011-10-02           2.5           NaN          5.5           NaN   \n",
       "2011-10-03           2.1           NaN          5.1           NaN   \n",
       "2011-10-04           0.9           NaN          3.3           NaN   \n",
       "2011-10-05           0.3           NaN          2.1           NaN   \n",
       "...                  ...           ...          ...           ...   \n",
       "2018-09-26           NaN           4.4          4.8           5.4   \n",
       "2018-09-27           NaN           9.3          7.4           4.4   \n",
       "2018-09-28           NaN           9.2          8.8           7.9   \n",
       "2018-09-29           NaN          10.5          9.8           6.9   \n",
       "2018-09-30           NaN          10.6          6.9           8.6   \n",
       "\n",
       "            1232_AK_SCAN  2211_AK_SCAN  2208_AK_SCAN  1233_AK_SCAN  \\\n",
       "2011-10-01           NaN           NaN           NaN           NaN   \n",
       "2011-10-02           NaN           NaN           NaN           NaN   \n",
       "2011-10-03           NaN           NaN           NaN           NaN   \n",
       "2011-10-04           NaN           NaN           NaN           NaN   \n",
       "2011-10-05           NaN           NaN           NaN           NaN   \n",
       "...                  ...           ...           ...           ...   \n",
       "2018-09-26           NaN           NaN           NaN           NaN   \n",
       "2018-09-27           NaN           NaN           NaN           NaN   \n",
       "2018-09-28           NaN           NaN           NaN           NaN   \n",
       "2018-09-29           NaN           NaN           NaN           NaN   \n",
       "2018-09-30           NaN           NaN           NaN           NaN   \n",
       "\n",
       "            2209_AK_SCAN  2221_AK_SCAN  1234_AK_SCAN  \n",
       "2011-10-01           NaN           NaN           NaN  \n",
       "2011-10-02           NaN           NaN           NaN  \n",
       "2011-10-03           NaN           NaN           NaN  \n",
       "2011-10-04           NaN           NaN           NaN  \n",
       "2011-10-05           NaN           NaN           NaN  \n",
       "...                  ...           ...           ...  \n",
       "2018-09-26           NaN           NaN           NaN  \n",
       "2018-09-27           NaN           NaN           NaN  \n",
       "2018-09-28           NaN           NaN           NaN  \n",
       "2018-09-29           NaN           NaN           NaN  \n",
       "2018-09-30           NaN           NaN           NaN  \n",
       "\n",
       "[2557 rows x 11 columns]"
      ]
     },
     "execution_count": 10,
     "metadata": {},
     "output_type": "execute_result"
    }
   ],
   "source": [
    "######## TEMP ########\n",
    "# PATHS\n",
    "dataPath = '/nfs/attic/dfh/2020_NPRB/data/snotel/'+domain+'/'\n",
    "t = pd.read_csv(dataPath+'Station_data_TOBScelsius_'+st_dt+'_'+ed_dt+'.csv',index_col=0)\n",
    "t"
   ]
  },
  {
   "cell_type": "code",
   "execution_count": 11,
   "metadata": {},
   "outputs": [
    {
     "data": {
      "text/plain": [
       "<matplotlib.axes._subplots.AxesSubplot at 0x7f5eeeff6898>"
      ]
     },
     "execution_count": 11,
     "metadata": {},
     "output_type": "execute_result"
    },
    {
     "data": {
      "image/png": "[encoded data removed]",
      "text/plain": [
       "<Figure size 432x288 with 1 Axes>"
      ]
     },
     "metadata": {
      "needs_background": "light"
     },
     "output_type": "display_data"
    }
   ],
   "source": [
    "t.plot()"
   ]
  },
  {
   "cell_type": "code",
   "execution_count": 78,
   "metadata": {},
   "outputs": [],
   "source": [
    "# # for CHUK domain - had to remove invalid data\n",
    "# t['2213_AK_SCAN'].loc['2017-04-01':]=np.nan\n",
    "# out = dataPath + 'SNOTEL_data_TOBScelsius'+st_dt+'_'+ed_dt+'.csv'\n",
    "# t.to_csv(out)"
   ]
  },
  {
   "cell_type": "code",
   "execution_count": 12,
   "metadata": {},
   "outputs": [
    {
     "data": {
      "text/html": [
       "<div>\n",
       "<style scoped>\n",
       "    .dataframe tbody tr th:only-of-type {\n",
       "        vertical-align: middle;\n",
       "    }\n",
       "\n",
       "    .dataframe tbody tr th {\n",
       "        vertical-align: top;\n",
       "    }\n",
       "\n",
       "    .dataframe thead th {\n",
       "        text-align: right;\n",
       "    }\n",
       "</style>\n",
       "<table border=\"1\" class=\"dataframe\">\n",
       "  <thead>\n",
       "    <tr style=\"text-align: right;\">\n",
       "      <th></th>\n",
       "      <th>1062_AK_SNTL</th>\n",
       "      <th>1191_AK_SNTL</th>\n",
       "      <th>987_AK_SNTL</th>\n",
       "      <th>1266_AK_SNTL</th>\n",
       "      <th>1232_AK_SCAN</th>\n",
       "      <th>2211_AK_SCAN</th>\n",
       "      <th>2208_AK_SCAN</th>\n",
       "      <th>1233_AK_SCAN</th>\n",
       "      <th>2062_AK_SCAN</th>\n",
       "      <th>2209_AK_SCAN</th>\n",
       "      <th>2063_AK_SCAN</th>\n",
       "      <th>2221_AK_SCAN</th>\n",
       "      <th>1234_AK_SCAN</th>\n",
       "    </tr>\n",
       "  </thead>\n",
       "  <tbody>\n",
       "    <tr>\n",
       "      <th>2011-10-01</th>\n",
       "      <td>0.01016</td>\n",
       "      <td>NaN</td>\n",
       "      <td>0.00762</td>\n",
       "      <td>NaN</td>\n",
       "      <td>NaN</td>\n",
       "      <td>NaN</td>\n",
       "      <td>NaN</td>\n",
       "      <td>NaN</td>\n",
       "      <td>0.004064</td>\n",
       "      <td>NaN</td>\n",
       "      <td>0.004826</td>\n",
       "      <td>NaN</td>\n",
       "      <td>NaN</td>\n",
       "    </tr>\n",
       "    <tr>\n",
       "      <th>2011-10-02</th>\n",
       "      <td>0.01778</td>\n",
       "      <td>NaN</td>\n",
       "      <td>0.00508</td>\n",
       "      <td>NaN</td>\n",
       "      <td>NaN</td>\n",
       "      <td>NaN</td>\n",
       "      <td>NaN</td>\n",
       "      <td>NaN</td>\n",
       "      <td>0.016256</td>\n",
       "      <td>NaN</td>\n",
       "      <td>0.014478</td>\n",
       "      <td>NaN</td>\n",
       "      <td>NaN</td>\n",
       "    </tr>\n",
       "    <tr>\n",
       "      <th>2011-10-03</th>\n",
       "      <td>0.00000</td>\n",
       "      <td>NaN</td>\n",
       "      <td>0.01778</td>\n",
       "      <td>NaN</td>\n",
       "      <td>NaN</td>\n",
       "      <td>NaN</td>\n",
       "      <td>NaN</td>\n",
       "      <td>NaN</td>\n",
       "      <td>0.000762</td>\n",
       "      <td>NaN</td>\n",
       "      <td>0.000508</td>\n",
       "      <td>NaN</td>\n",
       "      <td>NaN</td>\n",
       "    </tr>\n",
       "    <tr>\n",
       "      <th>2011-10-04</th>\n",
       "      <td>0.00000</td>\n",
       "      <td>NaN</td>\n",
       "      <td>0.00254</td>\n",
       "      <td>NaN</td>\n",
       "      <td>NaN</td>\n",
       "      <td>NaN</td>\n",
       "      <td>NaN</td>\n",
       "      <td>NaN</td>\n",
       "      <td>0.000000</td>\n",
       "      <td>NaN</td>\n",
       "      <td>0.000000</td>\n",
       "      <td>NaN</td>\n",
       "      <td>NaN</td>\n",
       "    </tr>\n",
       "    <tr>\n",
       "      <th>2011-10-05</th>\n",
       "      <td>0.00254</td>\n",
       "      <td>NaN</td>\n",
       "      <td>0.03048</td>\n",
       "      <td>NaN</td>\n",
       "      <td>NaN</td>\n",
       "      <td>NaN</td>\n",
       "      <td>NaN</td>\n",
       "      <td>NaN</td>\n",
       "      <td>0.001778</td>\n",
       "      <td>NaN</td>\n",
       "      <td>0.002286</td>\n",
       "      <td>NaN</td>\n",
       "      <td>NaN</td>\n",
       "    </tr>\n",
       "    <tr>\n",
       "      <th>...</th>\n",
       "      <td>...</td>\n",
       "      <td>...</td>\n",
       "      <td>...</td>\n",
       "      <td>...</td>\n",
       "      <td>...</td>\n",
       "      <td>...</td>\n",
       "      <td>...</td>\n",
       "      <td>...</td>\n",
       "      <td>...</td>\n",
       "      <td>...</td>\n",
       "      <td>...</td>\n",
       "      <td>...</td>\n",
       "      <td>...</td>\n",
       "    </tr>\n",
       "    <tr>\n",
       "      <th>2018-09-26</th>\n",
       "      <td>0.00508</td>\n",
       "      <td>0.00000</td>\n",
       "      <td>0.00000</td>\n",
       "      <td>0.00000</td>\n",
       "      <td>NaN</td>\n",
       "      <td>NaN</td>\n",
       "      <td>NaN</td>\n",
       "      <td>NaN</td>\n",
       "      <td>NaN</td>\n",
       "      <td>NaN</td>\n",
       "      <td>NaN</td>\n",
       "      <td>NaN</td>\n",
       "      <td>NaN</td>\n",
       "    </tr>\n",
       "    <tr>\n",
       "      <th>2018-09-27</th>\n",
       "      <td>0.04318</td>\n",
       "      <td>0.04318</td>\n",
       "      <td>0.03048</td>\n",
       "      <td>0.00000</td>\n",
       "      <td>NaN</td>\n",
       "      <td>NaN</td>\n",
       "      <td>NaN</td>\n",
       "      <td>NaN</td>\n",
       "      <td>NaN</td>\n",
       "      <td>NaN</td>\n",
       "      <td>NaN</td>\n",
       "      <td>NaN</td>\n",
       "      <td>NaN</td>\n",
       "    </tr>\n",
       "    <tr>\n",
       "      <th>2018-09-28</th>\n",
       "      <td>0.00762</td>\n",
       "      <td>0.01016</td>\n",
       "      <td>0.00508</td>\n",
       "      <td>0.00762</td>\n",
       "      <td>NaN</td>\n",
       "      <td>NaN</td>\n",
       "      <td>NaN</td>\n",
       "      <td>NaN</td>\n",
       "      <td>NaN</td>\n",
       "      <td>NaN</td>\n",
       "      <td>NaN</td>\n",
       "      <td>NaN</td>\n",
       "      <td>NaN</td>\n",
       "    </tr>\n",
       "    <tr>\n",
       "      <th>2018-09-29</th>\n",
       "      <td>0.00254</td>\n",
       "      <td>0.00000</td>\n",
       "      <td>0.00000</td>\n",
       "      <td>0.00000</td>\n",
       "      <td>NaN</td>\n",
       "      <td>NaN</td>\n",
       "      <td>NaN</td>\n",
       "      <td>NaN</td>\n",
       "      <td>NaN</td>\n",
       "      <td>NaN</td>\n",
       "      <td>NaN</td>\n",
       "      <td>NaN</td>\n",
       "      <td>NaN</td>\n",
       "    </tr>\n",
       "    <tr>\n",
       "      <th>2018-09-30</th>\n",
       "      <td>0.00254</td>\n",
       "      <td>0.00254</td>\n",
       "      <td>0.00000</td>\n",
       "      <td>0.00000</td>\n",
       "      <td>NaN</td>\n",
       "      <td>NaN</td>\n",
       "      <td>NaN</td>\n",
       "      <td>NaN</td>\n",
       "      <td>NaN</td>\n",
       "      <td>NaN</td>\n",
       "      <td>NaN</td>\n",
       "      <td>NaN</td>\n",
       "      <td>NaN</td>\n",
       "    </tr>\n",
       "  </tbody>\n",
       "</table>\n",
       "<p>2557 rows × 13 columns</p>\n",
       "</div>"
      ],
      "text/plain": [
       "            1062_AK_SNTL  1191_AK_SNTL  987_AK_SNTL  1266_AK_SNTL  \\\n",
       "2011-10-01       0.01016           NaN      0.00762           NaN   \n",
       "2011-10-02       0.01778           NaN      0.00508           NaN   \n",
       "2011-10-03       0.00000           NaN      0.01778           NaN   \n",
       "2011-10-04       0.00000           NaN      0.00254           NaN   \n",
       "2011-10-05       0.00254           NaN      0.03048           NaN   \n",
       "...                  ...           ...          ...           ...   \n",
       "2018-09-26       0.00508       0.00000      0.00000       0.00000   \n",
       "2018-09-27       0.04318       0.04318      0.03048       0.00000   \n",
       "2018-09-28       0.00762       0.01016      0.00508       0.00762   \n",
       "2018-09-29       0.00254       0.00000      0.00000       0.00000   \n",
       "2018-09-30       0.00254       0.00254      0.00000       0.00000   \n",
       "\n",
       "            1232_AK_SCAN  2211_AK_SCAN  2208_AK_SCAN  1233_AK_SCAN  \\\n",
       "2011-10-01           NaN           NaN           NaN           NaN   \n",
       "2011-10-02           NaN           NaN           NaN           NaN   \n",
       "2011-10-03           NaN           NaN           NaN           NaN   \n",
       "2011-10-04           NaN           NaN           NaN           NaN   \n",
       "2011-10-05           NaN           NaN           NaN           NaN   \n",
       "...                  ...           ...           ...           ...   \n",
       "2018-09-26           NaN           NaN           NaN           NaN   \n",
       "2018-09-27           NaN           NaN           NaN           NaN   \n",
       "2018-09-28           NaN           NaN           NaN           NaN   \n",
       "2018-09-29           NaN           NaN           NaN           NaN   \n",
       "2018-09-30           NaN           NaN           NaN           NaN   \n",
       "\n",
       "            2062_AK_SCAN  2209_AK_SCAN  2063_AK_SCAN  2221_AK_SCAN  \\\n",
       "2011-10-01      0.004064           NaN      0.004826           NaN   \n",
       "2011-10-02      0.016256           NaN      0.014478           NaN   \n",
       "2011-10-03      0.000762           NaN      0.000508           NaN   \n",
       "2011-10-04      0.000000           NaN      0.000000           NaN   \n",
       "2011-10-05      0.001778           NaN      0.002286           NaN   \n",
       "...                  ...           ...           ...           ...   \n",
       "2018-09-26           NaN           NaN           NaN           NaN   \n",
       "2018-09-27           NaN           NaN           NaN           NaN   \n",
       "2018-09-28           NaN           NaN           NaN           NaN   \n",
       "2018-09-29           NaN           NaN           NaN           NaN   \n",
       "2018-09-30           NaN           NaN           NaN           NaN   \n",
       "\n",
       "            1234_AK_SCAN  \n",
       "2011-10-01           NaN  \n",
       "2011-10-02           NaN  \n",
       "2011-10-03           NaN  \n",
       "2011-10-04           NaN  \n",
       "2011-10-05           NaN  \n",
       "...                  ...  \n",
       "2018-09-26           NaN  \n",
       "2018-09-27           NaN  \n",
       "2018-09-28           NaN  \n",
       "2018-09-29           NaN  \n",
       "2018-09-30           NaN  \n",
       "\n",
       "[2557 rows x 13 columns]"
      ]
     },
     "execution_count": 12,
     "metadata": {},
     "output_type": "execute_result"
    }
   ],
   "source": [
    "######## PREC ########\n",
    "# PATHS\n",
    "dataPath = '/nfs/attic/dfh/2020_NPRB/data/snotel/'+domain+'/'\n",
    "p = pd.read_csv(dataPath+'Station_data_PRmeters_'+st_dt+'_'+ed_dt+'.csv',index_col=0)\n",
    "p"
   ]
  },
  {
   "cell_type": "code",
   "execution_count": 13,
   "metadata": {},
   "outputs": [
    {
     "data": {
      "text/plain": [
       "<matplotlib.axes._subplots.AxesSubplot at 0x7f5eeef98ac8>"
      ]
     },
     "execution_count": 13,
     "metadata": {},
     "output_type": "execute_result"
    },
    {
     "data": {
      "image/png": "[encoded data removed]",
      "text/plain": [
       "<Figure size 432x288 with 1 Axes>"
      ]
     },
     "metadata": {
      "needs_background": "light"
     },
     "output_type": "display_data"
    }
   ],
   "source": [
    "p.plot()"
   ]
  },
  {
   "cell_type": "code",
   "execution_count": 14,
   "metadata": {},
   "outputs": [
    {
     "data": {
      "text/html": [
       "<div>\n",
       "<style scoped>\n",
       "    .dataframe tbody tr th:only-of-type {\n",
       "        vertical-align: middle;\n",
       "    }\n",
       "\n",
       "    .dataframe tbody tr th {\n",
       "        vertical-align: top;\n",
       "    }\n",
       "\n",
       "    .dataframe thead th {\n",
       "        text-align: right;\n",
       "    }\n",
       "</style>\n",
       "<table border=\"1\" class=\"dataframe\">\n",
       "  <thead>\n",
       "    <tr style=\"text-align: right;\">\n",
       "      <th></th>\n",
       "      <th>1062_AK_SNTL</th>\n",
       "      <th>987_AK_SNTL</th>\n",
       "      <th>1266_AK_SNTL</th>\n",
       "    </tr>\n",
       "  </thead>\n",
       "  <tbody>\n",
       "    <tr>\n",
       "      <th>2011-10-01</th>\n",
       "      <td>0.0</td>\n",
       "      <td>0.0</td>\n",
       "      <td>NaN</td>\n",
       "    </tr>\n",
       "    <tr>\n",
       "      <th>2011-10-02</th>\n",
       "      <td>0.0</td>\n",
       "      <td>0.0</td>\n",
       "      <td>NaN</td>\n",
       "    </tr>\n",
       "    <tr>\n",
       "      <th>2011-10-03</th>\n",
       "      <td>0.0</td>\n",
       "      <td>0.0</td>\n",
       "      <td>NaN</td>\n",
       "    </tr>\n",
       "    <tr>\n",
       "      <th>2011-10-04</th>\n",
       "      <td>0.0</td>\n",
       "      <td>0.0</td>\n",
       "      <td>NaN</td>\n",
       "    </tr>\n",
       "    <tr>\n",
       "      <th>2011-10-05</th>\n",
       "      <td>0.0</td>\n",
       "      <td>0.0</td>\n",
       "      <td>NaN</td>\n",
       "    </tr>\n",
       "    <tr>\n",
       "      <th>...</th>\n",
       "      <td>...</td>\n",
       "      <td>...</td>\n",
       "      <td>...</td>\n",
       "    </tr>\n",
       "    <tr>\n",
       "      <th>2018-09-26</th>\n",
       "      <td>0.0</td>\n",
       "      <td>0.0</td>\n",
       "      <td>0.0</td>\n",
       "    </tr>\n",
       "    <tr>\n",
       "      <th>2018-09-27</th>\n",
       "      <td>0.0</td>\n",
       "      <td>0.0</td>\n",
       "      <td>0.0</td>\n",
       "    </tr>\n",
       "    <tr>\n",
       "      <th>2018-09-28</th>\n",
       "      <td>0.0</td>\n",
       "      <td>0.0</td>\n",
       "      <td>0.0</td>\n",
       "    </tr>\n",
       "    <tr>\n",
       "      <th>2018-09-29</th>\n",
       "      <td>0.0</td>\n",
       "      <td>0.0</td>\n",
       "      <td>0.0</td>\n",
       "    </tr>\n",
       "    <tr>\n",
       "      <th>2018-09-30</th>\n",
       "      <td>0.0</td>\n",
       "      <td>0.0</td>\n",
       "      <td>0.0</td>\n",
       "    </tr>\n",
       "  </tbody>\n",
       "</table>\n",
       "<p>2557 rows × 3 columns</p>\n",
       "</div>"
      ],
      "text/plain": [
       "            1062_AK_SNTL  987_AK_SNTL  1266_AK_SNTL\n",
       "2011-10-01           0.0          0.0           NaN\n",
       "2011-10-02           0.0          0.0           NaN\n",
       "2011-10-03           0.0          0.0           NaN\n",
       "2011-10-04           0.0          0.0           NaN\n",
       "2011-10-05           0.0          0.0           NaN\n",
       "...                  ...          ...           ...\n",
       "2018-09-26           0.0          0.0           0.0\n",
       "2018-09-27           0.0          0.0           0.0\n",
       "2018-09-28           0.0          0.0           0.0\n",
       "2018-09-29           0.0          0.0           0.0\n",
       "2018-09-30           0.0          0.0           0.0\n",
       "\n",
       "[2557 rows x 3 columns]"
      ]
     },
     "execution_count": 14,
     "metadata": {},
     "output_type": "execute_result"
    }
   ],
   "source": [
    "######## SWED ########\n",
    "# PATHS\n",
    "dataPath = '/nfs/attic/dfh/2020_NPRB/data/snotel/'+domain+'/'\n",
    "swe = pd.read_csv(dataPath+'Station_data_SWEDmeters_'+st_dt+'_'+ed_dt+'.csv',index_col=0)\n",
    "swe"
   ]
  },
  {
   "cell_type": "code",
   "execution_count": null,
   "metadata": {},
   "outputs": [
    {
     "data": {
      "text/plain": [
       "<matplotlib.axes._subplots.AxesSubplot at 0x7f5ede5eaf28>"
      ]
     },
     "execution_count": 15,
     "metadata": {},
     "output_type": "execute_result"
    },
    {
     "data": {
      "image/png": "[encoded data removed]",
      "text/plain": [
       "<Figure size 432x288 with 1 Axes>"
      ]
     },
     "metadata": {
      "needs_background": "light"
     },
     "output_type": "display_data"
    }
   ],
   "source": [
    "swe.plot()"
   ]
  },
  {
   "cell_type": "code",
   "execution_count": 19,
   "metadata": {
    "tags": []
   },
   "outputs": [
    {
     "data": {
      "text/plain": [
       "<matplotlib.axes._subplots.AxesSubplot at 0x7f5eeeee5c50>"
      ]
     },
     "execution_count": 19,
     "metadata": {},
     "output_type": "execute_result"
    },
    {
     "data": {
      "image/png": "[encoded data removed]",
      "text/plain": [
       "<Figure size 432x288 with 1 Axes>"
      ]
     },
     "metadata": {
      "needs_background": "light"
     },
     "output_type": "display_data"
    }
   ],
   "source": [
    "# remove questionable swe points at the start of 1266_AK_SNTL timeseries\n",
    "swe['1266_AK_SNTL'] = swe['1266_AK_SNTL'].where(swe['1266_AK_SNTL']<.25,np.nan)\n",
    "swe.plot()"
   ]
  },
  {
   "cell_type": "code",
   "execution_count": 20,
   "metadata": {
    "tags": []
   },
   "outputs": [],
   "source": [
    "# resave edited swe data\n",
    "out = dataPath + 'Station_data_SWEDmeters_'+st_dt+'_'+ed_dt+'.csv'\n",
    "swe.to_csv(out)"
   ]
  },
  {
   "cell_type": "code",
   "execution_count": 5,
   "metadata": {
    "tags": []
   },
   "outputs": [
    {
     "data": {
      "text/plain": [
       "<matplotlib.axes._subplots.AxesSubplot at 0x7f565d0504e0>"
      ]
     },
     "execution_count": 5,
     "metadata": {},
     "output_type": "execute_result"
    },
    {
     "data": {
      "image/png": "[encoded data removed]",
      "text/plain": [
       "<Figure size 432x288 with 1 Axes>"
      ]
     },
     "metadata": {
      "needs_background": "light"
     },
     "output_type": "display_data"
    }
   ],
   "source": [
    "#path to NPRB domains\n",
    "domains_resp = requests.get(\"https://raw.githubusercontent.com/NPRB/02_preprocess_python/main/NPRB_domains.json\")\n",
    "domains = domains_resp.json()\n",
    "# huc2 vector file\n",
    "shp = gpd.read_file('/nfs/attic/dfh/2020_NPRB/data/gis/'+domain+'/BRIS.json')\n",
    "# projected coordinates\n",
    "shpproj = shp.to_crs(domains[domain]['mod_proj'])\n",
    "shpproj.plot()"
   ]
  },
  {
   "cell_type": "code",
   "execution_count": 12,
   "metadata": {},
   "outputs": [
    {
     "name": "stderr",
     "output_type": "stream",
     "text": [
      "/nfs/attic/dfh/2020_NPRB/data/snotel/BRIS/Station_sites_SWEDmeters_BRIS_2011-10-01_2018-09-30.geojson: No such file or directory\n",
      "driver GeoJSON does not support creation option ENCODING\n"
     ]
    },
    {
     "data": {
      "image/png": "[encoded data removed]",
      "text/plain": [
       "<Figure size 432x288 with 1 Axes>"
      ]
     },
     "metadata": {
      "needs_background": "light"
     },
     "output_type": "display_data"
    },
    {
     "data": {
      "image/png": "[encoded data removed]",
      "text/plain": [
       "<Figure size 432x288 with 1 Axes>"
      ]
     },
     "metadata": {
      "needs_background": "light"
     },
     "output_type": "display_data"
    }
   ],
   "source": [
    "######## SWED ########\n",
    "dataPath = '/nfs/attic/dfh/2020_NPRB/data/snotel/'+domain+'/'\n",
    "# gdf path\n",
    "gdfpath = dataPath + 'Station_sites_SWEDmeters_'+domain+'_'+st_dt+'_'+ed_dt+'.geojson'\n",
    "# open gdf\n",
    "Sgdf = gpd.read_file(gdfpath)\n",
    "Sgdf.plot()\n",
    "#stn data\n",
    "sdatapath = dataPath + 'Station_data_SWEDmeters_'+st_dt+'_'+ed_dt+'.csv'\n",
    "# open stn data\n",
    "s = pd.read_csv(sdatapath,index_col=0)\n",
    "# clip station in domain bouning box to yuko watershed\n",
    "stn_clip = gpd.clip(Sgdf, shpproj).reset_index(drop=True)\n",
    "stn_clip.plot()\n",
    "# save updated gdf\n",
    "stn_clip.to_file(gdfpath, driver='GeoJSON')\n",
    "# select data from stations in domain \n",
    "s2 = s[s.columns.intersection(stn_clip.code)]\n",
    "s2.to_csv(sdatapath)"
   ]
  },
  {
   "cell_type": "code",
   "execution_count": 14,
   "metadata": {
    "tags": []
   },
   "outputs": [
    {
     "data": {
      "text/plain": [
       "<matplotlib.axes._subplots.AxesSubplot at 0x7f564459f2e8>"
      ]
     },
     "execution_count": 14,
     "metadata": {},
     "output_type": "execute_result"
    },
    {
     "data": {
      "image/png": "[encoded data removed]",
      "text/plain": [
       "<Figure size 432x288 with 1 Axes>"
      ]
     },
     "metadata": {
      "needs_background": "light"
     },
     "output_type": "display_data"
    }
   ],
   "source": [
    "s2.plot()"
   ]
  },
  {
   "cell_type": "code",
   "execution_count": null,
   "metadata": {},
   "outputs": [],
   "source": []
  }
 ],
 "metadata": {
  "kernelspec": {
   "display_name": "Python [conda env:snowmodelcal]",
   "language": "python",
   "name": "conda-env-snowmodelcal-py"
  },
  "language_info": {
   "codemirror_mode": {
    "name": "ipython",
    "version": 3
   },
   "file_extension": ".py",
   "mimetype": "text/x-python",
   "name": "python",
   "nbconvert_exporter": "python",
   "pygments_lexer": "ipython3",
   "version": "3.6.10"
  }
 },
 "nbformat": 4,
 "nbformat_minor": 4
}
