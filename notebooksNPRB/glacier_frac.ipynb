{
 "cells": [
  {
   "cell_type": "code",
   "execution_count": 1,
   "id": "2b5ac5f9-0fb0-45a7-82d6-424b8a822645",
   "metadata": {
    "tags": []
   },
   "outputs": [],
   "source": [
    "import numpy as np\n",
    "import matplotlib.pyplot as plt\n",
    "import os\n",
    "import pandas as pd\n",
    "import requests\n",
    "from rasterio.warp import transform\n",
    "import xarray as xr\n",
    "import rioxarray as rxr\n",
    "import glob\n",
    "import scipy\n",
    "from xgrads import open_CtlDataset\n"
   ]
  },
  {
   "cell_type": "code",
   "execution_count": 2,
   "id": "133e3519-aef3-4e1f-af1e-e214ce88a4ec",
   "metadata": {
    "tags": []
   },
   "outputs": [
    {
     "data": {
      "text/plain": [
       "0.0016989328718725214"
      ]
     },
     "execution_count": 2,
     "metadata": {},
     "output_type": "execute_result"
    }
   ],
   "source": [
    "# choose the modeling domain\n",
    "domain = 'BEAU'\n",
    "\n",
    "# path to SM\n",
    "SMpath = '/nfs/attic/dfh/2020_NPRB/domain_'+domain+'/snowmodel2023_cfsv2/'\n",
    "# open landcover\n",
    "LCfile = SMpath+'topo_vege/dem_veg_'+domain+'.ctl'\n",
    "lcsm = open_CtlDataset(LCfile)\n",
    "# path to files\n",
    "wsd_ctl = SMpath+'/watershed/watershed.ctl'\n",
    "wsdlistpath = '/nfs/attic/dfh/2020_NPRB/data/hf/'+domain+'/watersheds.csv'\n",
    "# open watershed data\n",
    "wd = open_CtlDataset(wsd_ctl)\n",
    "# open list of watersheds to include\n",
    "wsd_list = pd.read_csv(wsdlistpath,index_col=0)\n",
    "wsdlist=wsd_list.wd.tolist()\n",
    "#isolate huc4\n",
    "indata = lcsm.veg.where(wd.wshed.isel(lev=0,time=0).isin(wsdlist))\n",
    "#calculate fraction\n",
    "indata.where(indata==20).count().values/indata.count().values"
   ]
  },
  {
   "cell_type": "code",
   "execution_count": 3,
   "id": "58d61493-0344-4a45-a1ce-2e5c8753884c",
   "metadata": {
    "tags": []
   },
   "outputs": [
    {
     "data": {
      "text/plain": [
       "0.014100310163943799"
      ]
     },
     "execution_count": 3,
     "metadata": {},
     "output_type": "execute_result"
    }
   ],
   "source": [
    "# choose the modeling domain\n",
    "domain = 'BRIS'\n",
    "\n",
    "# path to SM\n",
    "SMpath = '/nfs/attic/dfh/2020_NPRB/domain_'+domain+'/snowmodel2023_cfsv2/'\n",
    "# open landcover\n",
    "LCfile = SMpath+'topo_vege/dem_veg_'+domain+'.ctl'\n",
    "lcsm = open_CtlDataset(LCfile)\n",
    "# path to files\n",
    "wsd_ctl = SMpath+'/watershed/watershed.ctl'\n",
    "wsdlistpath = '/nfs/attic/dfh/2020_NPRB/data/hf/'+domain+'/watersheds.csv'\n",
    "# open watershed data\n",
    "wd = open_CtlDataset(wsd_ctl)\n",
    "# open list of watersheds to include\n",
    "wsd_list = pd.read_csv(wsdlistpath,index_col=0)\n",
    "wsdlist=wsd_list.wd.tolist()\n",
    "#isolate huc4\n",
    "indata = lcsm.veg.where(wd.wshed.isel(lev=0,time=0).isin(wsdlist))\n",
    "#calculate fraction\n",
    "indata.where(indata==20).count().values/indata.count().values"
   ]
  },
  {
   "cell_type": "code",
   "execution_count": 4,
   "id": "dc5cd352-115a-4754-bb6d-ef1215802b99",
   "metadata": {
    "tags": []
   },
   "outputs": [
    {
     "data": {
      "text/plain": [
       "9.211495946941784e-05"
      ]
     },
     "execution_count": 4,
     "metadata": {},
     "output_type": "execute_result"
    }
   ],
   "source": [
    "# choose the modeling domain\n",
    "domain = 'CHUK'\n",
    "\n",
    "# path to SM\n",
    "SMpath = '/nfs/attic/dfh/2020_NPRB/domain_'+domain+'/snowmodel2023_cfsv2/'\n",
    "# open landcover\n",
    "LCfile = SMpath+'topo_vege/dem_veg_'+domain+'.ctl'\n",
    "lcsm = open_CtlDataset(LCfile)\n",
    "# path to files\n",
    "wsd_ctl = SMpath+'/watershed/watershed.ctl'\n",
    "wsdlistpath = '/nfs/attic/dfh/2020_NPRB/data/hf/'+domain+'/watersheds.csv'\n",
    "# open watershed data\n",
    "wd = open_CtlDataset(wsd_ctl)\n",
    "# open list of watersheds to include\n",
    "wsd_list = pd.read_csv(wsdlistpath,index_col=0)\n",
    "wsdlist=wsd_list.wd.tolist()\n",
    "#isolate huc4\n",
    "indata = lcsm.veg.where(wd.wshed.isel(lev=0,time=0).isin(wsdlist))\n",
    "#calculate fraction\n",
    "indata.where(indata==20).count().values/indata.count().values"
   ]
  },
  {
   "cell_type": "code",
   "execution_count": 2,
   "id": "4b7daf92-786d-46a4-8e6c-20737a2cc061",
   "metadata": {
    "tags": []
   },
   "outputs": [
    {
     "data": {
      "text/plain": [
       "0.012094117313646444"
      ]
     },
     "execution_count": 2,
     "metadata": {},
     "output_type": "execute_result"
    }
   ],
   "source": [
    "# choose the modeling domain\n",
    "domain = 'YUKO'\n",
    "\n",
    "# path to SM\n",
    "SMpath = '/nfs/attic/dfh/2020_NPRB/domain_'+domain+'/snowmodel2023_cfsv2/'\n",
    "# open landcover\n",
    "LCfile = SMpath+'topo_vege/dem_veg_'+domain+'.ctl'\n",
    "lcsm = open_CtlDataset(LCfile)\n",
    "# path to files\n",
    "wsd_ctl = SMpath+'/watershed/watershed.ctl'\n",
    "wsdlistpath = '/nfs/attic/dfh/2020_NPRB/data/hf/'+domain+'/watersheds.csv'\n",
    "# open watershed data\n",
    "wd = open_CtlDataset(wsd_ctl)\n",
    "# open list of watersheds to include\n",
    "wsd_list = pd.read_csv(wsdlistpath,index_col=0)\n",
    "wsdlist=wsd_list.wd.tolist()\n",
    "#isolate huc4\n",
    "indata = lcsm.veg.where(wd.wshed.isel(lev=0,time=0).isin(wsdlist))\n",
    "#calculate fraction\n",
    "indata.where(indata==20).count().values/indata.count().values"
   ]
  },
  {
   "cell_type": "code",
   "execution_count": null,
   "id": "4f406439-e489-4d6b-9473-bfc2300b6779",
   "metadata": {},
   "outputs": [],
   "source": []
  }
 ],
 "metadata": {
  "kernelspec": {
   "display_name": "Python [conda env:nprb]",
   "language": "python",
   "name": "conda-env-nprb-py"
  },
  "language_info": {
   "codemirror_mode": {
    "name": "ipython",
    "version": 3
   },
   "file_extension": ".py",
   "mimetype": "text/x-python",
   "name": "python",
   "nbconvert_exporter": "python",
   "pygments_lexer": "ipython3",
   "version": "3.10.4"
  }
 },
 "nbformat": 4,
 "nbformat_minor": 5
}
