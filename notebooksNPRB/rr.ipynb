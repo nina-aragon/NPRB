{
 "cells": [
  {
   "cell_type": "code",
   "execution_count": 1,
   "id": "9b9a79a1-34ca-4fb2-b221-1f4a0eb26f8d",
   "metadata": {
    "tags": []
   },
   "outputs": [],
   "source": [
    "import scipy\n",
    "import numpy as np\n",
    "import pandas as pd\n",
    "import numpy as np\n",
    "import xarray as xr\n",
    "import geopandas as gpd\n",
    "import matplotlib.pyplot as plt"
   ]
  },
  {
   "cell_type": "code",
   "execution_count": 15,
   "id": "46a0df65-08ae-492d-aaca-eb0aa7ae75e6",
   "metadata": {
    "tags": []
   },
   "outputs": [
    {
     "name": "stdout",
     "output_type": "stream",
     "text": [
      "mean RR =  0.6922709603119894\n",
      "average annual Q =  68020.59114315463\n"
     ]
    }
   ],
   "source": [
    "# largest gaged watershed RR = 0.61 (.67 of total area)\n",
    "# Choose a domain\n",
    "domain = 'BEAU'\n",
    "resultpath = '/nfs/attic/dfh/2020_NPRB/data/results/'+domain+'/'\n",
    "df = pd.read_csv(resultpath+domain+'_annual_summary_wy1991-2020.csv')\n",
    "df['rr']=df.annual_Qcoast_m3/df.annual_prec_m3\n",
    "print('mean RR = ',df.rr.mean())\n",
    "df['Q_cfs']=df.annual_Qcoast_m3/60/60/24/365*35.3147\n",
    "print('average annual coastal Q = ',df.Q_cfs.mean())"
   ]
  },
  {
   "cell_type": "code",
   "execution_count": 16,
   "id": "2cde9418-b49e-43c4-821b-461403e48a85",
   "metadata": {
    "tags": []
   },
   "outputs": [
    {
     "name": "stdout",
     "output_type": "stream",
     "text": [
      "mean RR =  0.7025508912201172\n",
      "average annual Q =  201727.65106950974\n"
     ]
    }
   ],
   "source": [
    "# largest gaged watershed RR = 0.88\n",
    "# Choose a domain\n",
    "domain = 'BRIS'\n",
    "resultpath = '/nfs/attic/dfh/2020_NPRB/data/results/'+domain+'/'\n",
    "df = pd.read_csv(resultpath+domain+'_annual_summary_wy1991-2020.csv')\n",
    "df['rr']=df.annual_Qcoast_m3/df.annual_prec_m3\n",
    "print('mean RR = ',df.rr.mean())\n",
    "df['Q_cfs']=df.annual_Qcoast_m3/60/60/24/365*35.3147\n",
    "print('average annual Q = ',df.Q_cfs.mean())"
   ]
  },
  {
   "cell_type": "code",
   "execution_count": 17,
   "id": "c067ece5-6379-40e1-a856-9364b48447eb",
   "metadata": {
    "tags": []
   },
   "outputs": [
    {
     "name": "stdout",
     "output_type": "stream",
     "text": [
      "mean RR =  0.7566216170933248\n",
      "average annual Q =  108755.07063475066\n"
     ]
    }
   ],
   "source": [
    "# largest gaged watershed RR = 1.21 ... obviously something is wrong with the stats here\n",
    "# Choose a domain\n",
    "domain = 'CHUK'\n",
    "resultpath = '/nfs/attic/dfh/2020_NPRB/data/results/'+domain+'/'\n",
    "df = pd.read_csv(resultpath+domain+'_annual_summary_wy1991-2020.csv')\n",
    "df['rr']=df.annual_Qcoast_m3/df.annual_prec_m3\n",
    "print('mean RR = ',df.rr.mean())\n",
    "df['Q_cfs']=df.annual_Qcoast_m3/60/60/24/365*35.3147\n",
    "print('average annual Q = ',df.Q_cfs.mean())"
   ]
  },
  {
   "cell_type": "code",
   "execution_count": 18,
   "id": "53256e50-bdcb-4d98-8157-6ff3f0f64a0c",
   "metadata": {
    "tags": []
   },
   "outputs": [
    {
     "name": "stdout",
     "output_type": "stream",
     "text": [
      "mean RR =  0.5539151366362266\n",
      "average annual Q =  271539.47760576097\n"
     ]
    }
   ],
   "source": [
    "# largest gaged watershed RR = 0.54\n",
    "# Choose a domain\n",
    "domain = 'YUKO'\n",
    "resultpath = '/nfs/attic/dfh/2020_NPRB/data/results/'+domain+'/'\n",
    "df = pd.read_csv(resultpath+domain+'_annual_summary_wy1991-2020.csv')\n",
    "df['rr']=df.annual_Qcoast_m3/df.annual_prec_m3\n",
    "print('mean RR = ',df.rr.mean())\n",
    "df['Q_cfs']=df.annual_Qcoast_m3/60/60/24/365*35.3147\n",
    "print('average annual Q = ',df.Q_cfs.mean())"
   ]
  },
  {
   "cell_type": "code",
   "execution_count": null,
   "id": "6bef478e-aada-4236-b845-08352b8b06b6",
   "metadata": {},
   "outputs": [],
   "source": []
  }
 ],
 "metadata": {
  "kernelspec": {
   "display_name": "Python [conda env:nprb]",
   "language": "python",
   "name": "conda-env-nprb-py"
  },
  "language_info": {
   "codemirror_mode": {
    "name": "ipython",
    "version": 3
   },
   "file_extension": ".py",
   "mimetype": "text/x-python",
   "name": "python",
   "nbconvert_exporter": "python",
   "pygments_lexer": "ipython3",
   "version": "3.10.4"
  }
 },
 "nbformat": 4,
 "nbformat_minor": 5
}
